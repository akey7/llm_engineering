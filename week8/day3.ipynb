{
 "cells": [
  {
   "cell_type": "markdown",
   "id": "0df0d850-49eb-4a0b-a27a-146969db710d",
   "metadata": {},
   "source": [
    "# The Price is Right\n",
    "\n",
    "Today we'll build another piece of the puzzle: a ScanningAgent that looks for promising deals by subscribing to RSS feeds."
   ]
  },
  {
   "cell_type": "code",
   "execution_count": 1,
   "id": "d3763a79-8a5a-4300-8de4-93e85475af10",
   "metadata": {},
   "outputs": [],
   "source": [
    "# imports\n",
    "\n",
    "import os\n",
    "import json\n",
    "from dotenv import load_dotenv\n",
    "from openai import OpenAI\n",
    "from agents.deals import ScrapedDeal, DealSelection"
   ]
  },
  {
   "cell_type": "code",
   "execution_count": 2,
   "id": "c6469e32-16c3-4443-9475-ade710ef6933",
   "metadata": {},
   "outputs": [],
   "source": [
    "# Initialize and constants\n",
    "\n",
    "load_dotenv()\n",
    "os.environ['OPENAI_API_KEY'] = os.getenv('OPENAI_API_KEY', 'your-key-if-not-using-env')\n",
    "MODEL = 'gpt-4o-mini'\n",
    "openai = OpenAI()"
   ]
  },
  {
   "cell_type": "code",
   "execution_count": 3,
   "id": "afece9db-8cd4-46be-ac57-0b472e84da7d",
   "metadata": {},
   "outputs": [
    {
     "name": "stderr",
     "output_type": "stream",
     "text": [
      "100%|██████████| 5/5 [00:55<00:00, 11.07s/it]\n"
     ]
    }
   ],
   "source": [
    "deals = ScrapedDeal.fetch(show_progress=True)"
   ]
  },
  {
   "cell_type": "code",
   "execution_count": 4,
   "id": "8cd15c4d-eb44-4601-bf0c-f945c1d8e3ec",
   "metadata": {},
   "outputs": [
    {
     "data": {
      "text/plain": [
       "49"
      ]
     },
     "execution_count": 4,
     "metadata": {},
     "output_type": "execute_result"
    }
   ],
   "source": [
    "len(deals)"
   ]
  },
  {
   "cell_type": "code",
   "execution_count": 5,
   "id": "4259f30a-6455-49ed-8863-2f9ddd4776cb",
   "metadata": {},
   "outputs": [
    {
     "data": {
      "text/plain": [
       "\"Title: Celestron AstroMaster 70AZ LT Refractor Telescope Kit for $49 + free shipping\\nDetails: You'd pay over $100 elsewhere. Buy Now at Walmart\\nFeatures: \\nURL: https://www.dealnews.com/Celestron-Astro-Master-70-AZ-LT-Refractor-Telescope-Kit-for-49-free-shipping/21708652.html?iref=rss-c196\""
      ]
     },
     "execution_count": 5,
     "metadata": {},
     "output_type": "execute_result"
    }
   ],
   "source": [
    "deals[44].describe()"
   ]
  },
  {
   "cell_type": "code",
   "execution_count": 6,
   "id": "8100e5ac-38f5-40c1-a712-08ae12c85038",
   "metadata": {},
   "outputs": [],
   "source": [
    "system_prompt = \"\"\"You identify and summarize the 5 most detailed deals from a list, by selecting deals that have the most detailed, high quality description and the most clear price.\n",
    "Respond strictly in JSON with no explanation, using this format. You should provide the price as a number derived from the description. If the price of a deal isn't clear, do not include that deal in your response.\n",
    "Most important is that you respond with the 5 deals that have the most detailed product description with price. It's not important to mention the terms of the deal; most important is a thorough description of the product.\n",
    "Be careful with products that are described as \"$XXX off\" or \"reduced by $XXX\" - this isn't the actual price of the product. Only respond with products when you are highly confident about the price. \n",
    "\n",
    "{\"deals\": [\n",
    "    {\n",
    "        \"product_description\": \"Your clearly expressed summary of the product in 4-5 sentences. Details of the item are much more important than why it's a good deal. Avoid mentioning discounts and coupons; focus on the item itself. There should be a paragpraph of text for each item you choose.\",\n",
    "        \"price\": 99.99,\n",
    "        \"url\": \"the url as provided\"\n",
    "    },\n",
    "    ...\n",
    "]}\"\"\""
   ]
  },
  {
   "cell_type": "code",
   "execution_count": 7,
   "id": "f4bca170-af71-40c9-9597-1d72980c74d8",
   "metadata": {},
   "outputs": [],
   "source": [
    "user_prompt = \"\"\"Respond with the most promising 5 deals from this list, selecting those which have the most detailed, high quality product description and a clear price.\n",
    "Respond strictly in JSON, and only JSON. You should rephrase the description to be a summary of the product itself, not the terms of the deal.\n",
    "Remember to respond with a paragraph of text in the product_description field for each of the 5 items that you select.\n",
    "Be careful with products that are described as \"$XXX off\" or \"reduced by $XXX\" - this isn't the actual price of the product. Only respond with products when you are highly confident about the price. \n",
    "\n",
    "Deals:\n",
    "\n",
    "\"\"\"\n",
    "user_prompt += '\\n\\n'.join([deal.describe() for deal in deals])"
   ]
  },
  {
   "cell_type": "code",
   "execution_count": 8,
   "id": "020947a6-561b-417b-98a0-a085e31d2ce3",
   "metadata": {},
   "outputs": [
    {
     "name": "stdout",
     "output_type": "stream",
     "text": [
      "Respond with the most promising 5 deals from this list, selecting those which have the most detailed, high quality product description and a clear price.\n",
      "Respond strictly in JSON, and only JSON. You should rephrase the description to be a summary of the product itself, not the terms of the deal.\n",
      "Remember to respond with a paragraph of text in the product_description field for each of the 5 items that you select.\n",
      "Be careful with products that are described as \"$XXX off\" or \"reduced by $XXX\" - this isn't the actual price of the product. Only respond with products when you are highly confident about the price. \n",
      "\n",
      "Deals:\n",
      "\n",
      "Title: Google Pixel Buds Pro 2 Earbuds w/ Fitbit Charge 6 Health Tracker for $319 + free shipping\n",
      "Details: Pick your prefered colors for the Google Pixel Buds Pro 2 Noise Canceling Earbuds and Fitbit Charge 6 Advanced Fitness and Health Tracker, and you'll see this price in cart. It's $10 less than you'd pay for these items sold separately at Amazon. Buy Now at Best Buy\n",
      "Features: \n",
      "URL: https://www.dealnews.com/Google-Pixel-Buds-Pro-2-Earbuds-w-Fitbit-Charge-6-Health-Tracker-for-319-free-shipping/21708692.html?iref=rss-c142\n",
      "\n",
      "Title: Samsung Galaxy Watch Ultra 47mm Smartwatch: $100 off or up to $350 off w/ trade + free shipping\n",
      "Details: There's no trade required to get $100 off. Alternatively, you'll save up to $350 on this purchase when you trade your current watch. Shop Now at Samsung\n",
      "Features: \n",
      "URL: https://www.dealnews.com/Samsung-Galaxy-Watch-Ultra-47-mm-Smartwatch-100-off-or-up-to-350-off-w-trade-free-shipping/21708691.html?iref=rss-c142\n",
      "\n",
      "Title: Samsung Buds3 Pro Noise Cancelling In-Ear Headphones: Up to $50 off w/ trade + free shipping\n",
      "Details: Get up to a $50 credit when you trade your device, potentially dropping the starting price to $200. Shop Now at Samsung\n",
      "Features: \n",
      "URL: https://www.dealnews.com/Samsung-Buds3-Pro-Noise-Cancelling-In-Ear-Headphones-Up-to-50-off-w-trade-free-shipping/21708689.html?iref=rss-c142\n",
      "\n",
      "Title: Unlocked Samsung Galaxy S\n"
     ]
    }
   ],
   "source": [
    "print(user_prompt[:2000])"
   ]
  },
  {
   "cell_type": "code",
   "execution_count": 9,
   "id": "7de46f74-868c-4127-8a68-cf2da7d600bb",
   "metadata": {},
   "outputs": [],
   "source": [
    "def get_recommendations():\n",
    "    completion = openai.beta.chat.completions.parse(\n",
    "        model=\"gpt-4o-mini\",\n",
    "        messages=[\n",
    "            {\"role\": \"system\", \"content\": system_prompt},\n",
    "            {\"role\": \"user\", \"content\": user_prompt}\n",
    "      ],\n",
    "        response_format=DealSelection\n",
    "    )\n",
    "    result = completion.choices[0].message.parsed\n",
    "    return result"
   ]
  },
  {
   "cell_type": "code",
   "execution_count": 10,
   "id": "4c06270d-8c17-4d5a-9cfe-b6cefe788d5e",
   "metadata": {},
   "outputs": [],
   "source": [
    "result = get_recommendations()"
   ]
  },
  {
   "cell_type": "code",
   "execution_count": 11,
   "id": "af76ee08",
   "metadata": {},
   "outputs": [
    {
     "data": {
      "text/plain": [
       "DealSelection(deals=[Deal(product_description=\"The Google Pixel Buds Pro 2 are designed for an immersive audio experience, featuring active noise cancellation and a custom fit for enhanced comfort. They come in your choice of colors and pair seamlessly with the Fitbit Charge 6, a versatile fitness and health tracker that offers advanced monitoring of your workouts and health metrics. This bundle delivers superior sound quality for music lovers while keeping you informed on your health stats. It's perfect for those seeking both entertainment and fitness tracking in one stylish package.\", price=319.0, url='https://www.dealnews.com/Google-Pixel-Buds-Pro-2-Earbuds-w-Fitbit-Charge-6-Health-Tracker-for-319-free-shipping/21708692.html?iref=rss-c142'), Deal(product_description='The Dell Inspiron 15 laptop boasts an AMD Ryzen 5 7520U quad-core CPU, ensuring smooth multitasking and speedy performance. With 8GB RAM and a 512GB SSD, this laptop provides ample space for storage and quick boot times. The 15.6-inch display features a full HD resolution of 1920x1080, providing vivid colors and clarity for both work and entertainment. Running on Windows 11 Home, it comes equipped for modern computing needs and is ideal for students and professionals alike.', price=330.0, url='https://www.dealnews.com/products/Dell/Dell-Inspiron-15-Ryzen-5-15-6-Laptop/373520.html?iref=rss-c39'), Deal(product_description=\"The Singstation Performer Deluxe Karaoke System is designed for unforgettable parties, featuring two microphones for duet performances and 16 multi-color light modes to enhance the atmosphere. Equipped with Bluetooth streaming capabilities, it allows you to connect your devices wirelessly for a diverse range of songs. Its remote control makes it easy to manage playback, and the system's user-friendly interface ensures hassle-free operation. This karaoke station is a fantastic choice for family gatherings and social events.\", price=50.0, url='https://www.dealnews.com/products/Singstation-Performer-Deluxe-Karaoke-System/485852.html?iref=rss-c142'), Deal(product_description='The 2nd-Gen Apple HomePod smart speaker enhances your home with rich, immersive audio and smart home control capabilities. It features a high-excursion woofer and five tweeters that create a surround sound experience. The speaker includes Spatial Audio for room sensing and Siri voice recognition for hands-free convenience. Available in Classic White and Midnight, it is not just a speaker but also a hub for controlling your smart home devices, making it a perfect addition for tech-savvy homeowners.', price=299.0, url='https://www.dealnews.com/products/Apple/2-nd-Gen-Apple-Home-Pod-Smart-Speaker-2023/467409.html?iref=rss-f1912'), Deal(product_description='The Hcalory Diesel Car Heater delivers powerful heating with its 5KW adjustable output, ensuring your vehicle stays warm even in the coldest conditions. It features a low fuel consumption design, making it an economical choice for maintaining comfort. This versatile heater is ideal for truck drivers, outdoor enthusiasts, or anyone who needs reliable heating when away from home. Its easy installation process means you can quickly incorporate it into your vehicle setup.', price=70.0, url='https://www.dealnews.com/products/Hcalory-Diesel-Car-Heater/459217.html?iref=rss-c238')])"
      ]
     },
     "execution_count": 11,
     "metadata": {},
     "output_type": "execute_result"
    }
   ],
   "source": [
    "result"
   ]
  },
  {
   "cell_type": "code",
   "execution_count": 12,
   "id": "84e62845-3338-441a-8161-c70097af4773",
   "metadata": {},
   "outputs": [
    {
     "data": {
      "text/plain": [
       "5"
      ]
     },
     "execution_count": 12,
     "metadata": {},
     "output_type": "execute_result"
    }
   ],
   "source": [
    "len(result.deals)"
   ]
  },
  {
   "cell_type": "code",
   "execution_count": 13,
   "id": "e5554a0a-ae40-4684-ad3e-faa3d22e030c",
   "metadata": {},
   "outputs": [
    {
     "data": {
      "text/plain": [
       "Deal(product_description='The Dell Inspiron 15 laptop boasts an AMD Ryzen 5 7520U quad-core CPU, ensuring smooth multitasking and speedy performance. With 8GB RAM and a 512GB SSD, this laptop provides ample space for storage and quick boot times. The 15.6-inch display features a full HD resolution of 1920x1080, providing vivid colors and clarity for both work and entertainment. Running on Windows 11 Home, it comes equipped for modern computing needs and is ideal for students and professionals alike.', price=330.0, url='https://www.dealnews.com/products/Dell/Dell-Inspiron-15-Ryzen-5-15-6-Laptop/373520.html?iref=rss-c39')"
      ]
     },
     "execution_count": 13,
     "metadata": {},
     "output_type": "execute_result"
    }
   ],
   "source": [
    "result.deals[1]"
   ]
  },
  {
   "cell_type": "code",
   "execution_count": 14,
   "id": "8bdc57fb-7497-47af-a643-6ba5a21cc17e",
   "metadata": {},
   "outputs": [],
   "source": [
    "from agents.scanner_agent import ScannerAgent"
   ]
  },
  {
   "cell_type": "code",
   "execution_count": 15,
   "id": "132278bc-217a-43a6-b6c4-724140c6a225",
   "metadata": {},
   "outputs": [],
   "source": [
    "agent = ScannerAgent()\n",
    "result = agent.scan()"
   ]
  },
  {
   "cell_type": "code",
   "execution_count": 16,
   "id": "2e1d013a-c930-4dad-901b-41433379e14b",
   "metadata": {},
   "outputs": [
    {
     "data": {
      "text/plain": [
       "DealSelection(deals=[Deal(product_description='The Google Pixel Buds Pro 2 are premium wireless earbuds featuring noise-canceling technology and a variety of customizable colors. They offer high-quality audio with a comfortable fit for all-day use. The accompanying Fitbit Charge 6 tracker provides advanced health monitoring and fitness tracking capabilities, making this bundle ideal for tech-savvy users looking to enhance their daily fitness routine.', price=319.0, url='https://www.dealnews.com/Google-Pixel-Buds-Pro-2-Earbuds-w-Fitbit-Charge-6-Health-Tracker-for-319-free-shipping/21708692.html?iref=rss-c142'), Deal(product_description='The Samsung Galaxy S24 Ultra smartphone represents cutting-edge technology in mobile devices with a stunning display and high-performance capabilities. Its robust camera system excels in low-light conditions and supports high-resolution video recording. With options for 256GB and 512GB storage, this phone is designed for both everyday users and tech enthusiasts demanding power and speed.', price=500.0, url='https://www.dealnews.com/Unlocked-Samsung-Galaxy-S24-Ultra-Android-Smartphone-Up-to-800-off-w-trade-free-shipping/21708681.html?iref=rss-c142'), Deal(product_description='The Certified Refurb Apple Watch Ultra 2 combines rugged design with advanced smartwatch functionality. It features GPS and cellular connectivity, allowing users to stay connected without their phone. This model offers robust health tracking, with sensors for heart rate, ECG, and blood oxygen monitoring, making it a perfect companion for fitness enthusiasts.', price=500.0, url='https://www.dealnews.com/Certified-Refurb-Apple-Watch-Ultra-2-GPS-Cellular-49-mm-Smartwatch-for-500-free-shipping/21708618.html?iref=rss-c142'), Deal(product_description='The Alienware m18 R2 Gaming Laptop features an impressive combination of power and performance with an Intel Core i9-14900HX processor and NVIDIA GeForce RTX 4080 GPU. This robust laptop is designed to handle the latest games with breathtaking graphics and speed. Coupled with 32GB of RAM and a 1TB SSD, it ensures smooth multitasking and ample storage for all your gaming needs.', price=2800.0, url='https://www.dealnews.com/Alienware-m18-R2-Gaming-Laptop-w-RTX-4080-Graphics-for-2-800-free-shipping/21708488.html?iref=rss-c39'), Deal(product_description=\"The 2nd-Gen Apple HomePod Smart Speaker delivers high-fidelity audio thanks to its high-excursion woofer and five tweeters. It features advanced spatial audio technology, making it capable of filling a room with sound that accurately positions audio based on the room's layout. The speaker offers integrated Siri voice recognition, allowing users to control smart home devices, play music, and access information effortlessly.\", price=299.0, url='https://www.dealnews.com/products/Apple/2-nd-Gen-Apple-Home-Pod-Smart-Speaker-2023/467409.html?iref=rss-f1912')])"
      ]
     },
     "execution_count": 16,
     "metadata": {},
     "output_type": "execute_result"
    }
   ],
   "source": [
    "result"
   ]
  },
  {
   "cell_type": "code",
   "execution_count": null,
   "id": "5ee2e837-1f1d-42d4-8bc4-51cccc343006",
   "metadata": {},
   "outputs": [],
   "source": []
  }
 ],
 "metadata": {
  "kernelspec": {
   "display_name": "llms",
   "language": "python",
   "name": "python3"
  },
  "language_info": {
   "codemirror_mode": {
    "name": "ipython",
    "version": 3
   },
   "file_extension": ".py",
   "mimetype": "text/x-python",
   "name": "python",
   "nbconvert_exporter": "python",
   "pygments_lexer": "ipython3",
   "version": "3.11.11"
  }
 },
 "nbformat": 4,
 "nbformat_minor": 5
}
