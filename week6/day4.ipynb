{
 "cells": [
  {
   "cell_type": "markdown",
   "id": "db8736a7-ed94-441c-9556-831fa57b5a10",
   "metadata": {},
   "source": [
    "# The Product Pricer Continued\n",
    "\n",
    "A model that can estimate how much something costs, from its description.\n",
    "\n",
    "## Enter The Frontier!\n",
    "\n",
    "And now - we put Frontier Models to the test.\n",
    "\n",
    "### 2 important points:\n",
    "\n",
    "It's important to appreciate that we aren't Training the frontier models. We're only providing them with the Test dataset to see how they perform. They don't gain the benefit of the 400,000 training examples that we provided to the Traditional ML models.\n",
    "\n",
    "HAVING SAID THAT...\n",
    "\n",
    "It's entirely possible that in their monstrously large training data, they've already been exposed to all the products in the training AND the test set. So there could be test \"contamination\" here which gives them an unfair advantage. We should keep that in mind."
   ]
  },
  {
   "cell_type": "code",
   "execution_count": 1,
   "id": "681c717b-4c24-4ac3-a5f3-3c5881d6e70a",
   "metadata": {},
   "outputs": [],
   "source": [
    "# imports\n",
    "\n",
    "import os\n",
    "import re\n",
    "import math\n",
    "import json\n",
    "import random\n",
    "from dotenv import load_dotenv\n",
    "from huggingface_hub import login\n",
    "from items import Item\n",
    "import matplotlib.pyplot as plt\n",
    "import numpy as np\n",
    "import pickle\n",
    "from collections import Counter\n",
    "from openai import OpenAI\n",
    "from anthropic import Anthropic"
   ]
  },
  {
   "cell_type": "code",
   "execution_count": 2,
   "id": "21a3833e-4093-43b0-8f7b-839c50b911ea",
   "metadata": {},
   "outputs": [],
   "source": [
    "# moved our Tester into a separate package\n",
    "# call it with Tester.test(function_name, test_dataset)\n",
    "\n",
    "from testing import Tester"
   ]
  },
  {
   "cell_type": "code",
   "execution_count": 22,
   "id": "36d05bdc-0155-4c72-a7ee-aa4e614ffd3c",
   "metadata": {},
   "outputs": [],
   "source": [
    "# environment\n",
    "\n",
    "load_dotenv()\n",
    "os.environ['OPENAI_API_KEY'] = os.getenv('OPENAI_API_KEY', 'your-key-if-not-using-env')\n",
    "os.environ['CLAUDE_API_KEY'] = os.getenv('CLAUDE_API_KEY', 'your-key-if-not-using-env')\n",
    "os.environ['HF_TOKEN'] = os.getenv('HF_TOKEN', 'your-key-if-not-using-env')"
   ]
  },
  {
   "cell_type": "code",
   "execution_count": 4,
   "id": "4dd3aad2-6f99-433c-8792-e461d2f06622",
   "metadata": {},
   "outputs": [
    {
     "name": "stderr",
     "output_type": "stream",
     "text": [
      "Note: Environment variable`HF_TOKEN` is set and is the current active token independently from the token you've just configured.\n"
     ]
    }
   ],
   "source": [
    "# Log in to HuggingFace\n",
    "\n",
    "hf_token = os.environ['HF_TOKEN']\n",
    "login(hf_token, add_to_git_credential=True)"
   ]
  },
  {
   "cell_type": "code",
   "execution_count": 5,
   "id": "b0a6fb86-74a4-403c-ab25-6db2d74e9d2b",
   "metadata": {},
   "outputs": [],
   "source": [
    "openai = OpenAI()\n",
    "claude = Anthropic()"
   ]
  },
  {
   "cell_type": "code",
   "execution_count": 6,
   "id": "c830ed3e-24ee-4af6-a07b-a1bfdcd39278",
   "metadata": {},
   "outputs": [],
   "source": [
    "%matplotlib inline"
   ]
  },
  {
   "cell_type": "code",
   "execution_count": 7,
   "id": "5c9b05f4-c9eb-462c-8d86-de9140a2d985",
   "metadata": {},
   "outputs": [],
   "source": [
    "# Let's avoid curating all our data again! Load in the pickle files:\n",
    "\n",
    "with open('train.pkl', 'rb') as file:\n",
    "    train = pickle.load(file)\n",
    "\n",
    "with open('test.pkl', 'rb') as file:\n",
    "    test = pickle.load(file)"
   ]
  },
  {
   "cell_type": "markdown",
   "id": "e5856173-e68c-4975-a769-5f1736e227a5",
   "metadata": {},
   "source": [
    "# Before we look at the Frontier\n",
    "\n",
    "## There is one more model we could consider"
   ]
  },
  {
   "cell_type": "code",
   "execution_count": 8,
   "id": "f3e81ee0-828a-4af8-9ccf-177af6c78a0c",
   "metadata": {},
   "outputs": [],
   "source": [
    "# Write the test set to a CSV\n",
    "\n",
    "import csv\n",
    "with open('human_input.csv', 'w', encoding=\"utf-8\") as csvfile:\n",
    "    writer = csv.writer(csvfile)\n",
    "    for t in test[:250]:\n",
    "        writer.writerow([t.test_prompt(), 0])"
   ]
  },
  {
   "cell_type": "code",
   "execution_count": 9,
   "id": "aeafac31-1a10-4029-b190-030378e2fe01",
   "metadata": {},
   "outputs": [],
   "source": [
    "# Read it back in\n",
    "\n",
    "human_predictions = []\n",
    "with open('human_output.csv', 'r', encoding=\"utf-8\") as csvfile:\n",
    "    reader = csv.reader(csvfile)\n",
    "    for row in reader:\n",
    "        human_predictions.append(float(row[1]))"
   ]
  },
  {
   "cell_type": "code",
   "execution_count": 10,
   "id": "a9709da2-28f0-419e-af71-4ef6c02246ad",
   "metadata": {},
   "outputs": [],
   "source": [
    "def human_pricer(item):\n",
    "    idx = test.index(item)\n",
    "    return human_predictions[idx]"
   ]
  },
  {
   "cell_type": "code",
   "execution_count": 11,
   "id": "e1ba3b3e-4b08-4f0b-9e51-ebb03a86085d",
   "metadata": {},
   "outputs": [],
   "source": [
    "# Tester.test(human_pricer, test)"
   ]
  },
  {
   "cell_type": "markdown",
   "id": "066fef03-8338-4526-9df3-89b649ad4f0a",
   "metadata": {},
   "source": [
    "## First, the humble but mighty GPT-4o-mini\n",
    "\n",
    "It's called mini, but it packs a punch."
   ]
  },
  {
   "cell_type": "code",
   "execution_count": 12,
   "id": "66ea68e8-ab1b-4f0d-aba4-a59574d8f85e",
   "metadata": {},
   "outputs": [],
   "source": [
    "# First let's work on a good prompt for a Frontier model\n",
    "# Notice that I'm removing the \" to the nearest dollar\"\n",
    "# When we train our own models, we'll need to make the problem as easy as possible, \n",
    "# but a Frontier model needs no such simplification.\n",
    "\n",
    "def messages_for(item):\n",
    "    system_message = \"You estimate prices of items. Reply only with the price, no explanation\"\n",
    "    user_prompt = item.test_prompt().replace(\" to the nearest dollar\",\"\").replace(\"\\n\\nPrice is $\",\"\")\n",
    "    return [\n",
    "        {\"role\": \"system\", \"content\": system_message},\n",
    "        {\"role\": \"user\", \"content\": user_prompt},\n",
    "        {\"role\": \"assistant\", \"content\": \"Price is $\"}\n",
    "    ]"
   ]
  },
  {
   "cell_type": "code",
   "execution_count": null,
   "id": "add7bc0a-71fb-49cc-a49b-9548fd0fe949",
   "metadata": {},
   "outputs": [],
   "source": []
  },
  {
   "cell_type": "code",
   "execution_count": 13,
   "id": "4ff92d61-0d27-4b0d-8b32-c9891016509b",
   "metadata": {},
   "outputs": [
    {
     "data": {
      "text/plain": [
       "[{'role': 'system',\n",
       "  'content': 'You estimate prices of items. Reply only with the price, no explanation'},\n",
       " {'role': 'user',\n",
       "  'content': \"How much does this cost?\\n\\nHabisder 2022 Laptops 14.1'' Laptop Computer, 8GB RAM 128GB SSD, Windows 10 Laptop, Celeron J3455 Processor, IPS Display, Ultra Slim Notebook PC, WiFi,\\nColor Silver SSD Material plastic paint Screen type 14.1 inch IPS screen Screen resolution 1366 * 768 IPS CPU quad-core Graphics card HD set display CPU frequency quad-core 1.5GHz up to 2.3Ghz Operating system for Windows 10 64-bit Memory LPDDR3 8GB Hard disk 128GB SSD Can be expanded to 1TB SSD Built in wireless LAN Wireless standard / b / g / n / ac) Built-in sound chip Built in speaker Built in microphone Graphics card integrated graphics Input device touchpad\"},\n",
       " {'role': 'assistant', 'content': 'Price is $'}]"
      ]
     },
     "execution_count": 13,
     "metadata": {},
     "output_type": "execute_result"
    }
   ],
   "source": [
    "# Try this out\n",
    "\n",
    "messages_for(test[0])"
   ]
  },
  {
   "cell_type": "code",
   "execution_count": 14,
   "id": "b1af1888-f94a-4106-b0d8-8a70939eec4e",
   "metadata": {},
   "outputs": [],
   "source": [
    "# A utility function to extract the price from a string\n",
    "\n",
    "def get_price(s):\n",
    "    s = s.replace('$','').replace(',','')\n",
    "    match = re.search(r\"[-+]?\\d*\\.\\d+|\\d+\", s)\n",
    "    return float(match.group()) if match else 0"
   ]
  },
  {
   "cell_type": "code",
   "execution_count": 15,
   "id": "f138c5b7-bcc1-4085-aced-68dad1bf36b4",
   "metadata": {},
   "outputs": [
    {
     "data": {
      "text/plain": [
       "99.99"
      ]
     },
     "execution_count": 15,
     "metadata": {},
     "output_type": "execute_result"
    }
   ],
   "source": [
    "get_price(\"The price is roughly $99.99 because blah blah\")"
   ]
  },
  {
   "cell_type": "code",
   "execution_count": 16,
   "id": "501a2a7a-69c8-451b-bbc0-398bcb9e1612",
   "metadata": {},
   "outputs": [],
   "source": [
    "# The function for gpt-4o-mini\n",
    "\n",
    "def gpt_4o_mini(item):\n",
    "    response = openai.chat.completions.create(\n",
    "        model=\"gpt-4o-mini\", \n",
    "        messages=messages_for(item),\n",
    "        seed=42,\n",
    "        max_tokens=5\n",
    "    )\n",
    "    reply = response.choices[0].message.content\n",
    "    return get_price(reply)"
   ]
  },
  {
   "cell_type": "code",
   "execution_count": 17,
   "id": "843d88b4-364a-431b-b48b-8a7c1f68b786",
   "metadata": {},
   "outputs": [
    {
     "data": {
      "text/plain": [
       "138.0"
      ]
     },
     "execution_count": 17,
     "metadata": {},
     "output_type": "execute_result"
    }
   ],
   "source": [
    "test[0].price"
   ]
  },
  {
   "cell_type": "code",
   "execution_count": 18,
   "id": "36bdd2c9-1859-4f99-a09f-3ec83b845b30",
   "metadata": {},
   "outputs": [
    {
     "name": "stdout",
     "output_type": "stream",
     "text": [
      "\u001b[91m1: Guess: $299.99 Truth: $138.00 Error: $161.99 SLE: 0.60 Item: Habisder 2022 Laptops 14.1'' Laptop Comp...\u001b[0m\n",
      "\u001b[91m2: Guess: $199.99 Truth: $399.99 Error: $200.00 SLE: 0.48 Item: 10\" 1080P Backup Camera Monitor & Built-...\u001b[0m\n",
      "\u001b[91m3: Guess: $299.99 Truth: $149.99 Error: $150.00 SLE: 0.48 Item: Avolusion PRO-5X Series 12TB USB 3.0 Ext...\u001b[0m\n",
      "\u001b[92m4: Guess: $47.99 Truth: $73.05 Error: $25.06 SLE: 0.17 Item: LG EBF61215202 Genuine OEM Lid Switch As...\u001b[0m\n",
      "\u001b[93m5: Guess: $12.99 Truth: $68.97 Error: $55.98 SLE: 2.59 Item: LG EBF62174902 LG-EBF62174902 Switch,Rot...\u001b[0m\n",
      "\u001b[93m6: Guess: $649.99 Truth: $839.00 Error: $189.01 SLE: 0.06 Item: CyberpowerPC Gamer Master Gaming PC, AMD...\u001b[0m\n",
      "\u001b[92m7: Guess: $89.99 Truth: $80.99 Error: $9.00 SLE: 0.01 Item: Herdio 5.25 Inch Wall Mount Passive Spea...\u001b[0m\n",
      "\u001b[92m8: Guess: $10.99 Truth: $18.98 Error: $7.99 SLE: 0.26 Item: FitTurn Compatible with SKG V7 V7 Pro Ba...\u001b[0m\n",
      "\u001b[92m9: Guess: $24.99 Truth: $23.99 Error: $1.00 SLE: 0.00 Item: TRUMiRR Watch Band for Fenix 7 Sapphire ...\u001b[0m\n",
      "\u001b[92m10: Guess: $89.99 Truth: $78.99 Error: $11.00 SLE: 0.02 Item: KZ ZAS 16-Unit Hybrid High-Frequency 7BA...\u001b[0m\n",
      "\u001b[91m11: Guess: $199.00 Truth: $69.00 Error: $130.00 SLE: 1.10 Item: R2 Pro MarkII 2.4GHz Transmitter for Son...\u001b[0m\n",
      "\u001b[91m12: Guess: $99.99 Truth: $259.99 Error: $160.00 SLE: 0.90 Item: Wilife PC Based 2 Camera Master Video Se...\u001b[0m\n",
      "\u001b[92m13: Guess: $25.99 Truth: $40.87 Error: $14.88 SLE: 0.19 Item: WB30M1 and WB30M2 Surface Element Kit by...\u001b[0m\n",
      "\u001b[91m14: Guess: $150.00 Truth: $399.95 Error: $249.95 SLE: 0.95 Item: Jetway JBC375F532W-2930-B Intel Celeron ...\u001b[0m\n",
      "\u001b[93m15: Guess: $89.99 Truth: $139.99 Error: $50.00 SLE: 0.19 Item: ACASIS 40Gbps M.2 NVMe SSD Enclosure, Up...\u001b[0m\n",
      "\u001b[92m16: Guess: $19.99 Truth: $17.99 Error: $2.00 SLE: 0.01 Item: iPhone 11 Pro Duck Heartbeat for Duck Lo...\u001b[0m\n",
      "\u001b[92m17: Guess: $150.00 Truth: $135.99 Error: $14.01 SLE: 0.01 Item: VPL-VW60 Sony Projector Lamp Replacement...\u001b[0m\n",
      "\u001b[92m18: Guess: $10.99 Truth: $18.95 Error: $7.96 SLE: 0.26 Item: Blendin 2 Pack Charcoal Water Filter, Fi...\u001b[0m\n",
      "\u001b[92m19: Guess: $29.99 Truth: $59.99 Error: $30.00 SLE: 0.46 Item: Lap Tray Laptop Table Bed Stand Raiser D...\u001b[0m\n",
      "\u001b[92m20: Guess: $199.99 Truth: $219.99 Error: $20.00 SLE: 0.01 Item: MSI PRO Z790-P WiFi ProSeries Motherboar...\u001b[0m\n",
      "\u001b[92m21: Guess: $129.99 Truth: $99.00 Error: $30.99 SLE: 0.07 Item: 3 Axis Gimbal Stabilizer for Gopro Hero ...\u001b[0m\n",
      "\u001b[91m22: Guess: $30.99 Truth: $197.00 Error: $166.01 SLE: 3.32 Item: PNY 240GB CS1111 Internal 2.5 inch SATA ...\u001b[0m\n",
      "\u001b[92m23: Guess: $199.99 Truth: $195.00 Error: $4.99 SLE: 0.00 Item: Apple Watch SE (GPS, 44mm) - Gold Alumin...\u001b[0m\n",
      "\u001b[92m24: Guess: $29.99 Truth: $41.99 Error: $12.00 SLE: 0.11 Item: Turtleback Belt Clip Case Made for Samsu...\u001b[0m\n",
      "\u001b[92m25: Guess: $49.99 Truth: $85.79 Error: $35.80 SLE: 0.28 Item: LG Electronics BP530 3D Blu-ray Disc Pla...\u001b[0m\n",
      "\u001b[93m26: Guess: $69.99 Truth: $109.99 Error: $40.00 SLE: 0.20 Item: Mounting Dream UL Listed TV Wall Mount B...\u001b[0m\n",
      "\u001b[91m27: Guess: $55.00 Truth: $147.76 Error: $92.76 SLE: 0.95 Item: Seagate 2TB 7200RPM HDD\u001b[0m\n",
      "\u001b[91m28: Guess: $299.99 Truth: $120.15 Error: $179.84 SLE: 0.83 Item: SAMSUNG 27” Wide Laundry Riser Pedestal ...\u001b[0m\n",
      "\u001b[92m29: Guess: $109.95 Truth: $145.00 Error: $35.05 SLE: 0.08 Item: CHA EMCOMM II\u001b[0m\n",
      "\u001b[93m30: Guess: $150.00 Truth: $99.99 Error: $50.01 SLE: 0.16 Item: Huawei Ascend Mate 7 Factory Unlocked Ce...\u001b[0m\n",
      "\u001b[92m31: Guess: $19.99 Truth: $27.92 Error: $7.93 SLE: 0.10 Item: SAMSUNG Wireless Charger Fast Charge Pad...\u001b[0m\n",
      "\u001b[92m32: Guess: $89.99 Truth: $62.99 Error: $27.00 SLE: 0.12 Item: Podofo Single Din Car Stereo with Blueto...\u001b[0m\n",
      "\u001b[92m33: Guess: $55.00 Truth: $82.97 Error: $27.97 SLE: 0.16 Item: Whirlpool W10537869 Dishwasher Diverter ...\u001b[0m\n",
      "\u001b[92m34: Guess: $749.99 Truth: $779.00 Error: $29.01 SLE: 0.00 Item: Dell 2021 Newest Inspiron 5000 2-in-1 Pr...\u001b[0m\n",
      "\u001b[92m35: Guess: $30.00 Truth: $11.88 Error: $18.12 SLE: 0.77 Item: GE Part Number WB24X10129 FAN SWITCH\u001b[0m\n",
      "\u001b[93m36: Guess: $30.99 Truth: $95.00 Error: $64.01 SLE: 1.21 Item: Pacroban 8k Hdmi 2.1 Fiber Optic Cable 2...\u001b[0m\n",
      "\u001b[92m37: Guess: $59.99 Truth: $66.99 Error: $7.00 SLE: 0.01 Item: JUMO CYLY Anti-Theft Hard Shell Laptop B...\u001b[0m\n",
      "\u001b[92m38: Guess: $47.99 Truth: $43.07 Error: $4.92 SLE: 0.01 Item: ASODI L17M3PG1 Laptop Battery Compatible...\u001b[0m\n",
      "\u001b[93m39: Guess: $499.99 Truth: $688.19 Error: $188.20 SLE: 0.10 Item: Arlo Ultra 2 Spotlight Camera- 2 Camera ...\u001b[0m\n",
      "\u001b[92m40: Guess: $15.99 Truth: $8.99 Error: $7.00 SLE: 0.28 Item: Samsung Galaxy A11 Case, CaseExpert® Gen...\u001b[0m\n",
      "\u001b[92m41: Guess: $49.99 Truth: $57.01 Error: $7.02 SLE: 0.02 Item: BRIGHTFOCAL New Screen Replacement for H...\u001b[0m\n",
      "\u001b[93m42: Guess: $109.00 Truth: $169.99 Error: $60.99 SLE: 0.19 Item: SMALLRIG VND Filter Kit, Featuring 8 Sto...\u001b[0m\n",
      "\u001b[93m43: Guess: $350.00 Truth: $252.98 Error: $97.02 SLE: 0.10 Item: Dell Precision T1700 MT i7-4790 Quad Cor...\u001b[0m\n",
      "\u001b[93m44: Guess: $69.99 Truth: $119.00 Error: $49.01 SLE: 0.28 Item: Wireless Bluetooth Shooting Grip and Tri...\u001b[0m\n",
      "\u001b[92m45: Guess: $179.99 Truth: $214.00 Error: $34.01 SLE: 0.03 Item: HP Chromebook x360 Laptop Computer in Te...\u001b[0m\n",
      "\u001b[93m46: Guess: $29.99 Truth: $74.99 Error: $45.00 SLE: 0.80 Item: Waveshare 7.5inch E-Paper E-Ink Display ...\u001b[0m\n",
      "\u001b[92m47: Guess: $99.99 Truth: $76.99 Error: $23.00 SLE: 0.07 Item: A-Tech 32GB Kit (4x8GB) RAM for Apple Ma...\u001b[0m\n",
      "\u001b[92m48: Guess: $19.99 Truth: $9.99 Error: $10.00 SLE: 0.42 Item: Luvvitt JOT Master Stylus and Ink Pen Du...\u001b[0m\n",
      "\u001b[92m49: Guess: $65.99 Truth: $44.89 Error: $21.10 SLE: 0.14 Item: TRAM 1600-HC 35 - Inch VHF Marine Antenn...\u001b[0m\n",
      "\u001b[92m50: Guess: $12.99 Truth: $10.98 Error: $2.01 SLE: 0.02 Item: Zoeirc Galaxy A10S Case/Samsung A10S Pho...\u001b[0m\n",
      "\u001b[92m51: Guess: $22.99 Truth: $44.99 Error: $22.00 SLE: 0.42 Item: Suptig Remote WiFi Remote Compatible for...\u001b[0m\n",
      "\u001b[92m52: Guess: $99.99 Truth: $69.00 Error: $30.99 SLE: 0.13 Item: 18 Inch Vintage Handmade Leather Messeng...\u001b[0m\n",
      "\u001b[92m53: Guess: $10.99 Truth: $8.90 Error: $2.09 SLE: 0.04 Item: EDIMENS 2 Pack Hard PC Case Compatible w...\u001b[0m\n",
      "\u001b[91m54: Guess: $299.99 Truth: $159.99 Error: $140.00 SLE: 0.39 Item: WiseEye Mini Verizon - Verizon Cellular ...\u001b[0m\n",
      "\u001b[92m55: Guess: $15.99 Truth: $14.99 Error: $1.00 SLE: 0.00 Item: Stonewall Jackson on Horse Civil War Art...\u001b[0m\n",
      "\u001b[92m56: Guess: $39.99 Truth: $30.99 Error: $9.00 SLE: 0.06 Item: RhinoShield Modular Case Compatible with...\u001b[0m\n",
      "\u001b[92m57: Guess: $49.99 Truth: $40.99 Error: $9.00 SLE: 0.04 Item: TUNAI Firefly Chat LDAC Bluetooth Adapte...\u001b[0m\n",
      "\u001b[93m58: Guess: $349.99 Truth: $557.95 Error: $207.96 SLE: 0.22 Item: Dasaita HD 10.2\" Android Car Stereo for ...\u001b[0m\n",
      "\u001b[92m59: Guess: $179.99 Truth: $177.90 Error: $2.09 SLE: 0.00 Item: SAMSUNG Galaxy Note 8 N950U 64GB Unlocke...\u001b[0m\n",
      "\u001b[92m60: Guess: $199.99 Truth: $164.95 Error: $35.04 SLE: 0.04 Item: Ultimate Ears MEGABOOM 3 Wireless Blueto...\u001b[0m\n",
      "\u001b[92m61: Guess: $25.99 Truth: $38.99 Error: $13.00 SLE: 0.15 Item: [UPGRADE] DA97-06419C Refrigerator Door ...\u001b[0m\n",
      "\u001b[91m62: Guess: $99.99 Truth: $648.00 Error: $548.01 SLE: 3.46 Item: 2 Pack Motorola RMU2080D Radios with Spe...\u001b[0m\n",
      "\u001b[92m63: Guess: $47.99 Truth: $85.99 Error: $38.00 SLE: 0.33 Item: Uonecn LCD EVF Cable FHG.1b 16 pin Male ...\u001b[0m\n",
      "\u001b[92m64: Guess: $299.99 Truth: $259.99 Error: $40.00 SLE: 0.02 Item: PRORECK Party 12 12-Inch 1000 Watts 2-Wa...\u001b[0m\n",
      "\u001b[91m65: Guess: $179.99 Truth: $91.98 Error: $88.01 SLE: 0.44 Item: Axxess GMOS-LAN-10 Data Interface for Se...\u001b[0m\n",
      "\u001b[92m66: Guess: $12.99 Truth: $10.99 Error: $2.00 SLE: 0.02 Item: BTShare for Oneplus Nord N200 5G Case wi...\u001b[0m\n",
      "\u001b[92m67: Guess: $29.99 Truth: $29.99 Error: $0.00 SLE: 0.00 Item: X9 Performance Backlit Large Print Keybo...\u001b[0m\n",
      "\u001b[92m68: Guess: $99.99 Truth: $83.98 Error: $16.01 SLE: 0.03 Item: Monoprice Blackbird 4K 4x1 HDMI 1.4 Swit...\u001b[0m\n",
      "\u001b[92m69: Guess: $349.99 Truth: $339.89 Error: $10.10 SLE: 0.00 Item: XTRONS 8.8 Inch IPS Touch Display Car St...\u001b[0m\n",
      "\u001b[92m70: Guess: $19.99 Truth: $23.99 Error: $4.00 SLE: 0.03 Item: TwoHead for Samsung Galaxy S20 FE 5G Wal...\u001b[0m\n",
      "\u001b[91m71: Guess: $800.00 Truth: $538.00 Error: $262.00 SLE: 0.16 Item: Apple Watch Series 8 GPS + Cellular 45mm...\u001b[0m\n",
      "\u001b[93m72: Guess: $499.95 Truth: $798.00 Error: $298.05 SLE: 0.22 Item: Fujifilm XF10 Digital Camera - Black\u001b[0m\n",
      "\u001b[92m73: Guess: $30.00 Truth: $54.95 Error: $24.95 SLE: 0.35 Item: PNY GeForce GT 430 1024MB DDR3 PCI-Expre...\u001b[0m\n",
      "\u001b[93m74: Guess: $39.99 Truth: $88.99 Error: $49.00 SLE: 0.62 Item: 𝐒𝐥𝐢𝐦𝐐 Gan Charger for Laptop: 150W,135W,...\u001b[0m\n",
      "\u001b[92m75: Guess: $19.99 Truth: $15.99 Error: $4.00 SLE: 0.04 Item: Lanenas Samsung Galaxy S9 Case, S9 Water...\u001b[0m\n",
      "\u001b[92m76: Guess: $99.99 Truth: $94.99 Error: $5.00 SLE: 0.00 Item: JVC HR-XVC33U Progressive-Scan DVD/VCR C...\u001b[0m\n",
      "\u001b[92m77: Guess: $15.99 Truth: $5.00 Error: $10.99 SLE: 1.08 Item: 510181 Dryer Door Metal Strike D510181 G...\u001b[0m\n",
      "\u001b[92m78: Guess: $29.99 Truth: $56.99 Error: $27.00 SLE: 0.39 Item: UGREEN USB C Charger 65W 4 Ports USB C P...\u001b[0m\n",
      "\u001b[93m79: Guess: $150.00 Truth: $100.79 Error: $49.21 SLE: 0.16 Item: Delfield 2194759KT-S Danfoss Control Kit\u001b[0m\n",
      "\u001b[91m80: Guess: $249.99 Truth: $109.99 Error: $140.00 SLE: 0.67 Item: Garmin vivomove 3, Hybrid Smartwatch wit...\u001b[0m\n",
      "\u001b[92m81: Guess: $499.00 Truth: $595.00 Error: $96.00 SLE: 0.03 Item: Xiaomi 11T PRO 5G + 4G Volte (256GB, 12G...\u001b[0m\n",
      "\u001b[92m82: Guess: $15.99 Truth: $10.99 Error: $5.00 SLE: 0.12 Item: AUPAI for Galaxy A31 4G Case with Glass ...\u001b[0m\n",
      "\u001b[91m83: Guess: $89.99 Truth: $170.50 Error: $80.51 SLE: 0.40 Item: fast Cat. Audio Cable/Speaker Wire - PVC...\u001b[0m\n",
      "\u001b[91m84: Guess: $239.00 Truth: $113.99 Error: $125.01 SLE: 0.54 Item: TTArtisan 40mm F2.8 Macro APS-C Fuji-X M...\u001b[0m\n",
      "\u001b[92m85: Guess: $12.99 Truth: $5.99 Error: $7.00 SLE: 0.48 Item: JUST4YOU Soft Jelly for Samsung Galaxy S...\u001b[0m\n",
      "\u001b[93m86: Guess: $199.00 Truth: $279.00 Error: $80.00 SLE: 0.11 Item: Bose TV Speaker - Soundbar for TV with B...\u001b[0m\n",
      "\u001b[92m87: Guess: $179.99 Truth: $199.99 Error: $20.00 SLE: 0.01 Item: Jensen CAR710X 7\" Digital Multimedia Rec...\u001b[0m\n",
      "\u001b[91m88: Guess: $299.99 Truth: $199.99 Error: $100.00 SLE: 0.16 Item: HP 2-in-1 12.3\" Touch-Screen Chromebook ...\u001b[0m\n",
      "\u001b[91m89: Guess: $499.99 Truth: $257.27 Error: $242.72 SLE: 0.44 Item: Dell Gaming PC 3020 SFF High Performance...\u001b[0m\n",
      "\u001b[92m90: Guess: $219.99 Truth: $229.68 Error: $9.69 SLE: 0.00 Item: MOGINSOK Firewall Appliance Mini PC, Int...\u001b[0m\n",
      "\u001b[92m91: Guess: $12.99 Truth: $15.99 Error: $3.00 SLE: 0.04 Item: JOLOJO 3+3 [Super Hardness] Compatible f...\u001b[0m\n",
      "\u001b[92m92: Guess: $75.00 Truth: $96.80 Error: $21.80 SLE: 0.06 Item: IN-WIN Development Inc Development EM048...\u001b[0m\n",
      "\u001b[91m93: Guess: $499.99 Truth: $226.31 Error: $273.68 SLE: 0.62 Item: Lenovo ThinkCentre Business Computer, In...\u001b[0m\n",
      "\u001b[92m94: Guess: $15.99 Truth: $19.99 Error: $4.00 SLE: 0.04 Item: Flunyina 2pcs 34 Eggs Holder (Total 68pc...\u001b[0m\n",
      "\u001b[91m95: Guess: $499.99 Truth: $897.00 Error: $397.01 SLE: 0.34 Item: Nikon D7200 24.2 MP DX-Format Digital SL...\u001b[0m\n",
      "\u001b[92m96: Guess: $39.95 Truth: $42.38 Error: $2.43 SLE: 0.00 Item: OtterBox AMPLIFY GLASS SERIES Screen Pro...\u001b[0m\n",
      "\u001b[91m97: Guess: $249.99 Truth: $129.99 Error: $120.00 SLE: 0.42 Item: Precision Power A1800.1D Atom Series Mon...\u001b[0m\n",
      "\u001b[93m98: Guess: $399.00 Truth: $302.59 Error: $96.41 SLE: 0.08 Item: LG 32GN650-B Ultragear Gaming Monitor 32...\u001b[0m\n",
      "\u001b[93m99: Guess: $99.99 Truth: $53.87 Error: $46.12 SLE: 0.37 Item: HTC 8X, Black 16GB (Verizon Wireless)\u001b[0m\n",
      "\u001b[92m100: Guess: $100.00 Truth: $92.99 Error: $7.01 SLE: 0.01 Item: MSI GT 1030 2GD4 LP OC Computer Graphics...\u001b[0m\n",
      "\u001b[92m101: Guess: $548.00 Truth: $458.99 Error: $89.01 SLE: 0.03 Item: Sony 35mm F2.8 Sonnar T FE ZA Full Frame...\u001b[0m\n",
      "\u001b[92m102: Guess: $10.99 Truth: $0.99 Error: $10.00 SLE: 3.23 Item: Spectre Shield Screen Protector for LG X...\u001b[0m\n",
      "\u001b[91m103: Guess: $350.00 Truth: $139.89 Error: $210.11 SLE: 0.83 Item: Lenovo ThinkPad T470 14-inch Laptop - 14...\u001b[0m\n",
      "\u001b[92m104: Guess: $39.99 Truth: $69.00 Error: $29.01 SLE: 0.29 Item: ZGCINE PS-G10 Combo Charging Case with 3...\u001b[0m\n",
      "\u001b[92m105: Guess: $25.99 Truth: $33.32 Error: $7.33 SLE: 0.06 Item: Frigidaire 216731001 Thermostat for Refr...\u001b[0m\n",
      "\u001b[92m106: Guess: $39.99 Truth: $54.99 Error: $15.00 SLE: 0.10 Item: POUT H3 SplitMax - 3-in-1 Wireless Charg...\u001b[0m\n",
      "\u001b[91m107: Guess: $179.99 Truth: $319.99 Error: $140.00 SLE: 0.33 Item: Carson 3D Series 8x32mm High Definition ...\u001b[0m\n",
      "\u001b[92m108: Guess: $249.99 Truth: $214.19 Error: $35.80 SLE: 0.02 Item: Fiodio 30in Curved Gaming Monitor 100Hz,...\u001b[0m\n",
      "\u001b[91m109: Guess: $299.99 Truth: $559.00 Error: $259.01 SLE: 0.39 Item: Blue Ocean 30\" RH668I Tempered Glass Sta...\u001b[0m\n",
      "\u001b[92m110: Guess: $19.00 Truth: $4.99 Error: $14.01 SLE: 1.45 Item: 【3 Pack】 Case for Apple Watch Ultra 49mm...\u001b[0m\n",
      "\u001b[92m111: Guess: $199.99 Truth: $247.28 Error: $47.29 SLE: 0.04 Item: LG 24BP750C-B 24\" Monitor, 1920X1080, IP...\u001b[0m\n",
      "\u001b[92m112: Guess: $379.00 Truth: $390.40 Error: $11.40 SLE: 0.00 Item: Nikon 85mm f/1.8G AF-S FX Nikkor Lens - ...\u001b[0m\n",
      "\u001b[92m113: Guess: $219.99 Truth: $199.00 Error: $20.99 SLE: 0.01 Item: Carbon Fiber Tripod-INNOREL GT284C Profe...\u001b[0m\n",
      "\u001b[92m114: Guess: $29.99 Truth: $24.98 Error: $5.01 SLE: 0.03 Item: CaseBorne V Designed for Samsung Galaxy ...\u001b[0m\n",
      "\u001b[92m115: Guess: $15.99 Truth: $14.99 Error: $1.00 SLE: 0.00 Item: Line Art Aesthetic Face Minimalist Abstr...\u001b[0m\n",
      "\u001b[93m116: Guess: $110.00 Truth: $159.08 Error: $49.08 SLE: 0.13 Item: Johnson Pump 10-13252-103-BW Baitwell Pu...\u001b[0m\n",
      "\u001b[91m117: Guess: $800.00 Truth: $499.00 Error: $301.00 SLE: 0.22 Item: Dell XPS 8900 Flagship High Performance ...\u001b[0m\n",
      "\u001b[91m118: Guess: $299.99 Truth: $599.99 Error: $300.00 SLE: 0.48 Item: TESmart USB 3.0 HDMI KVM Switch 3 Monito...\u001b[0m\n",
      "\u001b[92m119: Guess: $110.00 Truth: $130.68 Error: $20.68 SLE: 0.03 Item: Piel Leather Laptop Shoulder Bag, Black,...\u001b[0m\n",
      "\u001b[92m120: Guess: $59.99 Truth: $53.99 Error: $6.00 SLE: 0.01 Item: tengertang External Blu-Ray DVD CD Drive...\u001b[0m\n",
      "\u001b[92m121: Guess: $12.99 Truth: $11.99 Error: $1.00 SLE: 0.01 Item: CBUS USB C Cable, 6ft USB A to USB C Bra...\u001b[0m\n",
      "\u001b[92m122: Guess: $15.99 Truth: $27.99 Error: $12.00 SLE: 0.29 Item: iPad Stylus Pen for Apple Pencil 8th/9th...\u001b[0m\n",
      "\u001b[93m123: Guess: $29.99 Truth: $70.99 Error: $41.00 SLE: 0.71 Item: 19V AC Power Adapter Works with NORCENT ...\u001b[0m\n",
      "\u001b[92m124: Guess: $30.99 Truth: $54.45 Error: $23.46 SLE: 0.30 Item: Compatible with Honda Accord 2008 2009 2...\u001b[0m\n",
      "\u001b[93m125: Guess: $749.99 Truth: $949.00 Error: $199.01 SLE: 0.06 Item: Fujifilm 35mm f/1.4 XF R Lens with 32GB ...\u001b[0m\n",
      "\u001b[92m126: Guess: $14.99 Truth: $25.28 Error: $10.29 SLE: 0.25 Item: MightySkins Carbon Fiber Skin for Acer C...\u001b[0m\n",
      "\u001b[92m127: Guess: $150.00 Truth: $135.00 Error: $15.00 SLE: 0.01 Item: Dell Latitude E6420 14” Laptop PC, Intel...\u001b[0m\n",
      "\u001b[91m128: Guess: $490.00 Truth: $229.99 Error: $260.01 SLE: 0.57 Item: Seagate IronWolf Pro ST16000NE000 16 TB ...\u001b[0m\n",
      "\u001b[92m129: Guess: $499.99 Truth: $429.95 Error: $70.04 SLE: 0.02 Item: American Sound Connection Bundle Compati...\u001b[0m\n",
      "\u001b[92m130: Guess: $249.99 Truth: $267.33 Error: $17.34 SLE: 0.00 Item: Apple iPhone XR, 128GB, White - For Veri...\u001b[0m\n",
      "\u001b[92m131: Guess: $35.00 Truth: $33.99 Error: $1.01 SLE: 0.00 Item: 500GB 2.5\" Hard Drive for Acer Aspire As...\u001b[0m\n",
      "\u001b[92m132: Guess: $59.99 Truth: $47.80 Error: $12.19 SLE: 0.05 Item: BRIGHTFOCAL New Screen Replacement for A...\u001b[0m\n",
      "\u001b[92m133: Guess: $49.99 Truth: $57.99 Error: $8.00 SLE: 0.02 Item: 2022 WiFi Extender Signal Booster - for ...\u001b[0m\n",
      "\u001b[92m134: Guess: $16.99 Truth: $4.99 Error: $12.00 SLE: 1.21 Item: SobLn Designed for Square iPhone 14 Pro ...\u001b[0m\n",
      "\u001b[92m135: Guess: $29.99 Truth: $17.61 Error: $12.38 SLE: 0.26 Item: SAMSUNG Galaxy S22 S-View Flip Cover, Pr...\u001b[0m\n",
      "\u001b[92m136: Guess: $10.99 Truth: $1.95 Error: $9.04 SLE: 1.97 Item: RinoGear Screen Protector for HTC Window...\u001b[0m\n",
      "\u001b[92m137: Guess: $499.99 Truth: $460.70 Error: $39.29 SLE: 0.01 Item: Lenovo IdeaPad 3i Core i5-1135G7 8GB 256...\u001b[0m\n",
      "\u001b[92m138: Guess: $179.99 Truth: $149.99 Error: $30.00 SLE: 0.03 Item: Koah Weatherproof Wheeled Plastic Hard C...\u001b[0m\n",
      "\u001b[91m139: Guess: $35.00 Truth: $168.68 Error: $133.68 SLE: 2.40 Item: Biostar 945GC-M4 Intel 945GC Socket 478 ...\u001b[0m\n",
      "\u001b[92m140: Guess: $29.99 Truth: $30.99 Error: $1.00 SLE: 0.00 Item: ACEIRMC for Arduino Nano V3.0, Nano Boar...\u001b[0m\n",
      "\u001b[93m141: Guess: $120.00 Truth: $169.99 Error: $49.99 SLE: 0.12 Item: Sony HVL-F20M, HVL-F20M\u001b[0m\n",
      "\u001b[92m142: Guess: $49.99 Truth: $66.99 Error: $17.00 SLE: 0.08 Item: UMIDIGI Ablebuds Free Hybrid Active Nois...\u001b[0m\n",
      "\u001b[92m143: Guess: $49.95 Truth: $9.99 Error: $39.96 SLE: 2.35 Item: OtterBox STRADA SERIES Case for iPhone X...\u001b[0m\n",
      "\u001b[92m144: Guess: $29.95 Truth: $30.95 Error: $1.00 SLE: 0.00 Item: BoxWave Stylus Pen Compatible with Googl...\u001b[0m\n",
      "\u001b[92m145: Guess: $19.99 Truth: $32.99 Error: $13.00 SLE: 0.23 Item: SHIEID Samsung Flip 3 Case, Galaxy Flip ...\u001b[0m\n",
      "\u001b[92m146: Guess: $54.99 Truth: $84.99 Error: $30.00 SLE: 0.18 Item: UE WONDERBOOM Super Portable Waterproof ...\u001b[0m\n",
      "\u001b[91m147: Guess: $400.00 Truth: $699.90 Error: $299.90 SLE: 0.31 Item: MSI Gaming GeForce RTX 3070 8GB GDRR6 25...\u001b[0m\n",
      "\u001b[92m148: Guess: $30.99 Truth: $22.62 Error: $8.37 SLE: 0.09 Item: LEXiBOOK Unicorn 2-in-1 Bluetooth Headph...\u001b[0m\n",
      "\u001b[92m149: Guess: $39.99 Truth: $78.33 Error: $38.34 SLE: 0.44 Item: Computer Speakers, Bluedee 14W HiFi Ster...\u001b[0m\n",
      "\u001b[92m150: Guess: $15.99 Truth: $6.99 Error: $9.00 SLE: 0.57 Item: Mr.Shield [3-Pack] Designed For ZTE Blad...\u001b[0m\n",
      "\u001b[92m151: Guess: $47.95 Truth: $50.50 Error: $2.55 SLE: 0.00 Item: LensCoat Lens Cover for Nikon AF-S 55-30...\u001b[0m\n",
      "\u001b[93m152: Guess: $30.99 Truth: $103.20 Error: $72.21 SLE: 1.39 Item: Compatible with Frigidaire 240364787 Ref...\u001b[0m\n",
      "\u001b[92m153: Guess: $19.99 Truth: $18.98 Error: $1.01 SLE: 0.00 Item: All-New Fire HD 10 & Fire HD 10 Plus Tab...\u001b[0m\n",
      "\u001b[91m154: Guess: $399.99 Truth: $109.91 Error: $290.08 SLE: 1.65 Item: Canon EF 24-85mm f/3.5-4.5 USM Standard ...\u001b[0m\n",
      "\u001b[92m155: Guess: $15.99 Truth: $52.93 Error: $36.94 SLE: 1.33 Item: 1.5\" x 3' BLACK SPLIT LOOM TUBING Wire &...\u001b[0m\n",
      "\u001b[93m156: Guess: $49.99 Truth: $101.99 Error: $52.00 SLE: 0.49 Item: IFWTAER USB Camera Module 4K 2160P 1/2.5...\u001b[0m\n",
      "\u001b[93m157: Guess: $150.00 Truth: $199.00 Error: $49.00 SLE: 0.08 Item: Samsung Galaxy A12 (32GB, 3GB) 6.5\" HD+,...\u001b[0m\n",
      "\u001b[93m158: Guess: $45.00 Truth: $117.95 Error: $72.95 SLE: 0.90 Item: LG MDS63939301 Genuine OEM Door Gasket f...\u001b[0m\n",
      "\u001b[92m159: Guess: $15.99 Truth: $12.99 Error: $3.00 SLE: 0.04 Item: iCoverCase Phone Case for iPhone 12/12 P...\u001b[0m\n",
      "\u001b[92m160: Guess: $129.00 Truth: $128.99 Error: $0.01 SLE: 0.00 Item: SOCCERBEE LITE GPS Wearable Tracker and ...\u001b[0m\n",
      "\u001b[92m161: Guess: $8.99 Truth: $6.99 Error: $2.00 SLE: 0.05 Item: TenCloud Covers Compatible with Garmin F...\u001b[0m\n",
      "\u001b[92m162: Guess: $79.99 Truth: $90.00 Error: $10.01 SLE: 0.01 Item: FI8905W Network camera - outdoor - WiFi ...\u001b[0m\n",
      "\u001b[92m163: Guess: $149.00 Truth: $151.82 Error: $2.82 SLE: 0.00 Item: Sudio ETT True Wireless Earbuds - Active...\u001b[0m\n",
      "\u001b[92m164: Guess: $79.99 Truth: $49.99 Error: $30.00 SLE: 0.21 Item: Cerwin Vega CVBTR6 Bluetooth Receiver wi...\u001b[0m\n",
      "\u001b[92m165: Guess: $29.99 Truth: $20.99 Error: $9.00 SLE: 0.12 Item: 45W Samsung Super Fast Charger Type C, 2...\u001b[0m\n",
      "\u001b[93m166: Guess: $69.99 Truth: $144.99 Error: $75.00 SLE: 0.52 Item: Ocean Digital WR-800 FM Wi-Fi Internet R...\u001b[0m\n",
      "\u001b[92m167: Guess: $35.99 Truth: $32.99 Error: $3.00 SLE: 0.01 Item: LQM® 14.8V 4400mAh/65Wh New Laptop Batte...\u001b[0m\n",
      "\u001b[92m168: Guess: $199.99 Truth: $209.99 Error: $10.00 SLE: 0.00 Item: HUAWEI Watch GT 3 42 mm Smartwatch, Dura...\u001b[0m\n",
      "\u001b[93m169: Guess: $199.99 Truth: $149.99 Error: $50.00 SLE: 0.08 Item: [2G+32G] Car Radio for Porsche Cayenne 2...\u001b[0m\n",
      "\u001b[92m170: Guess: $47.99 Truth: $62.97 Error: $14.98 SLE: 0.07 Item: PowerSource 180W 150W 120W UL Listed Ext...\u001b[0m\n",
      "\u001b[92m171: Guess: $47.99 Truth: $35.95 Error: $12.04 SLE: 0.08 Item: XP Deus Charger 110 Volt with USB 3 Cabl...\u001b[0m\n",
      "\u001b[92m172: Guess: $30.99 Truth: $18.79 Error: $12.20 SLE: 0.23 Item: Wireless Car Charger Mount,Infrared Smar...\u001b[0m\n",
      "\u001b[92m173: Guess: $29.99 Truth: $65.94 Error: $35.95 SLE: 0.59 Item: Mini Currency Counter, Handheld Mini Por...\u001b[0m\n",
      "\u001b[92m174: Guess: $19.99 Truth: $27.99 Error: $8.00 SLE: 0.10 Item: WARYONG 13.3 Inch B(11.3\"x7\") Blue Light...\u001b[0m\n",
      "\u001b[91m175: Guess: $349.99 Truth: $214.95 Error: $135.04 SLE: 0.24 Item: Kicker Bundle Compatible with Universal ...\u001b[0m\n",
      "\u001b[92m176: Guess: $19.99 Truth: $23.90 Error: $3.91 SLE: 0.03 Item: Belkin Wireless Charger 5W - Boost Up Wi...\u001b[0m\n",
      "\u001b[93m177: Guess: $199.00 Truth: $279.00 Error: $80.00 SLE: 0.11 Item: YONGNUO YN200 Portable TTL Flash Speedli...\u001b[0m\n",
      "\u001b[91m178: Guess: $299.99 Truth: $99.89 Error: $200.10 SLE: 1.19 Item: Harmony Audio R65 R68 Speaker Upgrade Pa...\u001b[0m\n",
      "\u001b[93m179: Guess: $109.99 Truth: $179.99 Error: $70.00 SLE: 0.24 Item: Dsoon Time Lapse Camera Outdoor Construc...\u001b[0m\n",
      "\u001b[93m180: Guess: $499.99 Truth: $629.00 Error: $129.01 SLE: 0.05 Item: HP 15 15.6\" Business Laptop Computer_ In...\u001b[0m\n",
      "\u001b[92m181: Guess: $10.99 Truth: $12.99 Error: $2.00 SLE: 0.02 Item: ZXHSBROK Galaxy A03S Phone Case, Heavy D...\u001b[0m\n",
      "\u001b[92m182: Guess: $29.00 Truth: $55.98 Error: $26.98 SLE: 0.41 Item: NOKBABO iPad 9th Generation Case with Ke...\u001b[0m\n",
      "\u001b[92m183: Guess: $30.99 Truth: $31.06 Error: $0.07 SLE: 0.00 Item: Ciglow 5.25inch Card Reader, All-in-One ...\u001b[0m\n",
      "\u001b[92m184: Guess: $349.99 Truth: $409.00 Error: $59.01 SLE: 0.02 Item: Micro Center Intel Core i5-12600K 10 (6P...\u001b[0m\n",
      "\u001b[92m185: Guess: $49.99 Truth: $44.72 Error: $5.27 SLE: 0.01 Item: Tier1 CS-52 Refrigerator Water Filter 4-...\u001b[0m\n",
      "\u001b[92m186: Guess: $29.99 Truth: $36.99 Error: $7.00 SLE: 0.04 Item: Wireless Keyboard and Mouse Combo Silent...\u001b[0m\n",
      "\u001b[92m187: Guess: $100.00 Truth: $129.98 Error: $29.98 SLE: 0.07 Item: typecase Edge Magnetic Keyboard Compatib...\u001b[0m\n",
      "\u001b[92m188: Guess: $199.99 Truth: $229.98 Error: $29.99 SLE: 0.02 Item: Sceptre C325B-144R 32\" 144Hz 1800R Curve...\u001b[0m\n",
      "\u001b[92m189: Guess: $199.99 Truth: $199.99 Error: $0.00 SLE: 0.00 Item: Binize Single DIN 10.1 Inch Android 10 C...\u001b[0m\n",
      "\u001b[93m190: Guess: $29.99 Truth: $108.78 Error: $78.79 SLE: 1.60 Item: iKlips Duo+ Apple Lightning Flash Drive ...\u001b[0m\n",
      "\u001b[92m191: Guess: $99.99 Truth: $64.99 Error: $35.00 SLE: 0.18 Item: acr OLAS Wearable Mob Crew Tag - Single,...\u001b[0m\n",
      "\u001b[91m192: Guess: $49.99 Truth: $159.99 Error: $110.00 SLE: 1.32 Item: VidaMount White On-Wall Tablet Mount Com...\u001b[0m\n",
      "\u001b[92m193: Guess: $129.99 Truth: $149.00 Error: $19.01 SLE: 0.02 Item: Polaroid Originals Now I-Type Instant Ca...\u001b[0m\n",
      "\u001b[91m194: Guess: $800.00 Truth: $300.99 Error: $499.01 SLE: 0.95 Item: AmScope HL150-BY 150w Dual Gooseneck Fib...\u001b[0m\n",
      "\u001b[92m195: Guess: $89.99 Truth: $98.99 Error: $9.00 SLE: 0.01 Item: NESA DVD-1005 DVD Player with Front Pane...\u001b[0m\n",
      "\u001b[92m196: Guess: $30.99 Truth: $43.96 Error: $12.97 SLE: 0.12 Item: Dryer Heating Element Compatible with Sa...\u001b[0m\n",
      "\u001b[93m197: Guess: $239.99 Truth: $169.00 Error: $70.99 SLE: 0.12 Item: Sea Frogs 130ft/40m Underwater Camera Ho...\u001b[0m\n",
      "\u001b[92m198: Guess: $47.99 Truth: $74.99 Error: $27.00 SLE: 0.19 Item: ACASIS Powered USB Hub,16 Ports USB 3.0 ...\u001b[0m\n",
      "\u001b[92m199: Guess: $39.99 Truth: $54.47 Error: $14.48 SLE: 0.09 Item: Vanpir C21N1624 Laptop Battery Replaceme...\u001b[0m\n",
      "\u001b[92m200: Guess: $249.99 Truth: $239.99 Error: $10.00 SLE: 0.00 Item: Unlocked Rugged Smartphone with TWS Earb...\u001b[0m\n",
      "\u001b[92m201: Guess: $49.99 Truth: $52.99 Error: $3.00 SLE: 0.00 Item: EMEET 1080P Webcam with Microphone & Tri...\u001b[0m\n",
      "\u001b[93m202: Guess: $99.99 Truth: $149.99 Error: $50.00 SLE: 0.16 Item: Koss CS340BT QZ Wireless Bluetooth On-Ea...\u001b[0m\n",
      "\u001b[92m203: Guess: $89.99 Truth: $66.01 Error: $23.98 SLE: 0.09 Item: BRIGHTFOCAL New Screen Replacement for P...\u001b[0m\n",
      "\u001b[91m204: Guess: $800.00 Truth: $439.98 Error: $360.02 SLE: 0.36 Item: Olympus Zuiko 50-200mm f/2.8-3.5 Digital...\u001b[0m\n",
      "\u001b[93m205: Guess: $199.99 Truth: $149.99 Error: $50.00 SLE: 0.08 Item: Wireless HDMI KVM Extender, Wireless HDM...\u001b[0m\n",
      "\u001b[92m206: Guess: $69.99 Truth: $53.99 Error: $16.00 SLE: 0.07 Item: CTLAMP A+ Quality 915b455011 Compatible ...\u001b[0m\n",
      "\u001b[92m207: Guess: $89.99 Truth: $99.17 Error: $9.18 SLE: 0.01 Item: Kate Dark Blue Collapsible Backdrop for ...\u001b[0m\n",
      "\u001b[93m208: Guess: $59.99 Truth: $127.75 Error: $67.76 SLE: 0.56 Item: Kodak Portra 800 Color Negative Film ISO...\u001b[0m\n",
      "\u001b[92m209: Guess: $15.99 Truth: $10.99 Error: $5.00 SLE: 0.12 Item: PTNKUIIY Plush Furry Case for iPhone 12 ...\u001b[0m\n",
      "\u001b[91m210: Guess: $25.99 Truth: $144.93 Error: $118.94 SLE: 2.85 Item: Whirlpool W10415587 Washer Water-Level P...\u001b[0m\n",
      "\u001b[92m211: Guess: $39.99 Truth: $36.99 Error: $3.00 SLE: 0.01 Item: Bagsure Travel Laptop Backpack, Business...\u001b[0m\n",
      "\u001b[91m212: Guess: $80.00 Truth: $499.99 Error: $419.99 SLE: 3.32 Item: Supermicro X9SCA ATX Intel C204 PCH Sing...\u001b[0m\n",
      "\u001b[92m213: Guess: $29.99 Truth: $40.99 Error: $11.00 SLE: 0.09 Item: All Star Protector Blu-Ray Steelbook Sli...\u001b[0m\n",
      "\u001b[92m214: Guess: $25.99 Truth: $36.98 Error: $10.99 SLE: 0.12 Item: Camera Eyecup + Camera Hand Strap：Soft S...\u001b[0m\n",
      "\u001b[92m215: Guess: $29.99 Truth: $34.99 Error: $5.00 SLE: 0.02 Item: Motorcycle Amplifier Wiring kit fits All...\u001b[0m\n",
      "\u001b[93m216: Guess: $150.00 Truth: $104.61 Error: $45.39 SLE: 0.13 Item: HP Elite 8200 Ultra Slim Desktop PC - In...\u001b[0m\n",
      "\u001b[93m217: Guess: $499.00 Truth: $393.30 Error: $105.70 SLE: 0.06 Item: Ancona AN-1360 Inserta Chef 28\" 600 CFM ...\u001b[0m\n",
      "\u001b[92m218: Guess: $22.99 Truth: $29.99 Error: $7.00 SLE: 0.07 Item: MONASAY Zipper Wallet Case for iPhone 13...\u001b[0m\n",
      "\u001b[91m219: Guess: $149.99 Truth: $479.99 Error: $330.00 SLE: 1.34 Item: Celerity Technologies DFO-160P Fiber Opt...\u001b[0m\n",
      "\u001b[91m220: Guess: $299.99 Truth: $85.00 Error: $214.99 SLE: 1.57 Item: SAMSUNG Original Galaxy Watch Active2 w/...\u001b[0m\n",
      "\u001b[92m221: Guess: $699.00 Truth: $849.99 Error: $150.99 SLE: 0.04 Item: Lenovo Yoga 3 Pro - 80HE010KUS Laptop Co...\u001b[0m\n",
      "\u001b[92m222: Guess: $12.99 Truth: $8.99 Error: $4.00 SLE: 0.11 Item: GW USA Cases for Moto Z3 Case, Moto Z3 P...\u001b[0m\n",
      "\u001b[91m223: Guess: $89.99 Truth: $229.95 Error: $139.96 SLE: 0.87 Item: Coleman Bravo 1080p Full HD Extreme Spor...\u001b[0m\n",
      "\u001b[92m224: Guess: $239.99 Truth: $249.90 Error: $9.91 SLE: 0.00 Item: KICKER 6x9 CSC Wakeboard Tower Rollbar S...\u001b[0m\n",
      "\u001b[91m225: Guess: $109.99 Truth: $199.99 Error: $90.00 SLE: 0.35 Item: Kicker 46CXA8001 Car Audio Class D Amp M...\u001b[0m\n",
      "\u001b[92m226: Guess: $29.99 Truth: $22.99 Error: $7.00 SLE: 0.07 Item: 3387747 Dryer Heating Element Replacemen...\u001b[0m\n",
      "\u001b[92m227: Guess: $39.00 Truth: $69.99 Error: $30.99 SLE: 0.33 Item: Egoway A1383 Laptop Battery Compatible w...\u001b[0m\n",
      "\u001b[92m228: Guess: $14.99 Truth: $17.95 Error: $2.96 SLE: 0.03 Item: Case with Clip for Sonim XP3, Nakedcellp...\u001b[0m\n",
      "\u001b[92m229: Guess: $49.99 Truth: $34.99 Error: $15.00 SLE: 0.12 Item: Velvet Caviar Compatible with Samsung Ga...\u001b[0m\n",
      "\u001b[92m230: Guess: $15.99 Truth: $31.35 Error: $15.36 SLE: 0.41 Item: Cameron Sino Replacement Battery for Gar...\u001b[0m\n",
      "\u001b[92m231: Guess: $79.99 Truth: $50.99 Error: $29.00 SLE: 0.20 Item: AeroCool Bolt-G-BK Tempered Glass RGB Mi...\u001b[0m\n",
      "\u001b[92m232: Guess: $30.99 Truth: $43.07 Error: $12.08 SLE: 0.10 Item: LG TONE TRIUMPH HBS-510 wireless Bluetoo...\u001b[0m\n",
      "\u001b[92m233: Guess: $179.99 Truth: $184.24 Error: $4.25 SLE: 0.00 Item: Dell Latitude E6230 12.5in Notebook PC -...\u001b[0m\n",
      "\u001b[92m234: Guess: $69.99 Truth: $88.00 Error: $18.01 SLE: 0.05 Item: Sony Professional XQD G Series 64GB  Mem...\u001b[0m\n",
      "\u001b[92m235: Guess: $49.99 Truth: $47.99 Error: $2.00 SLE: 0.00 Item: Computer Speakers, HiFi Stereo Computer ...\u001b[0m\n",
      "\u001b[92m236: Guess: $49.99 Truth: $41.30 Error: $8.69 SLE: 0.03 Item: Washing Machine Hoses and Steam Dryer In...\u001b[0m\n",
      "\u001b[92m237: Guess: $49.99 Truth: $74.75 Error: $24.76 SLE: 0.16 Item: JBL Endurance Peak II - Waterproof True ...\u001b[0m\n",
      "\u001b[93m238: Guess: $25.99 Truth: $98.00 Error: $72.01 SLE: 1.69 Item: CMS 8GB (2X4GB) DDR2 5300 667MHZ Non ECC...\u001b[0m\n",
      "\u001b[92m239: Guess: $10.99 Truth: $4.99 Error: $6.00 SLE: 0.48 Item: 100 Pcs Hocus Pocus Stickers, Vinyl Wate...\u001b[0m\n",
      "\u001b[92m240: Guess: $100.00 Truth: $97.95 Error: $2.05 SLE: 0.00 Item: ASUS GeForce GTX 550 Ti (Fermi) 1GB 192-...\u001b[0m\n",
      "\u001b[92m241: Guess: $199.99 Truth: $199.99 Error: $0.00 SLE: 0.00 Item: 2023 Newest Tablet, 2 in 1 Android Table...\u001b[0m\n",
      "\u001b[92m242: Guess: $99.99 Truth: $135.00 Error: $35.01 SLE: 0.09 Item: 10.1 inch Car Overhead Monitor 1080P Vid...\u001b[0m\n",
      "\u001b[93m243: Guess: $499.99 Truth: $679.00 Error: $179.01 SLE: 0.09 Item: ZOTAC Gaming GeForce RTX™ 3070 Ti Trinit...\u001b[0m\n",
      "\u001b[92m244: Guess: $14.99 Truth: $21.99 Error: $7.00 SLE: 0.13 Item: i-Blason Magma Case for iPhone 11 6.1 in...\u001b[0m\n",
      "\u001b[92m245: Guess: $199.99 Truth: $229.99 Error: $30.00 SLE: 0.02 Item: Fitcamx 4K Dash Cam Suitable for Mercede...\u001b[0m\n",
      "\u001b[92m246: Guess: $47.99 Truth: $29.00 Error: $18.99 SLE: 0.24 Item: Caprock Ultravation UltraMax T3 AS-IH-10...\u001b[0m\n",
      "\u001b[92m247: Guess: $99.99 Truth: $81.25 Error: $18.74 SLE: 0.04 Item: Xduoo 220790 Accessory Xp-2 Portable Blu...\u001b[0m\n",
      "\u001b[91m248: Guess: $349.99 Truth: $649.00 Error: $299.01 SLE: 0.38 Item: Dell Optiplex 9020, Intel i5, 8GB RAM, 2...\u001b[0m\n",
      "\u001b[92m249: Guess: $139.99 Truth: $104.99 Error: $35.00 SLE: 0.08 Item: G.Skill Trident Z5 NEO RGB Series (AMD E...\u001b[0m\n",
      "\u001b[92m250: Guess: $1,099.00 Truth: $979.00 Error: $120.00 SLE: 0.01 Item: ASUS - 15.6\" Laptop - AMD Ryzen 7-8GB Me...\u001b[0m\n"
     ]
    },
    {
     "data": {
      "image/png": "[encoded data removed]",
      "text/plain": [
       "<Figure size 1200x800 with 1 Axes>"
      ]
     },
     "metadata": {},
     "output_type": "display_data"
    }
   ],
   "source": [
    "Tester.test(gpt_4o_mini, test)"
   ]
  },
  {
   "cell_type": "code",
   "execution_count": 19,
   "id": "f49e90d6-6749-4eb8-9347-5922b189d379",
   "metadata": {},
   "outputs": [],
   "source": [
    "# def gpt_4o_frontier(item):\n",
    "#     response = openai.chat.completions.create(\n",
    "#         model=\"gpt-4o-2024-08-06\", \n",
    "#         messages=messages_for(item),\n",
    "#         seed=42,\n",
    "#         max_tokens=5\n",
    "#     )\n",
    "#     reply = response.choices[0].message.content\n",
    "#     return get_price(reply)"
   ]
  },
  {
   "cell_type": "code",
   "execution_count": null,
   "id": "766e697e-55bf-4521-b301-3b07d20045e0",
   "metadata": {},
   "outputs": [],
   "source": [
    "# The function for gpt-4o - the August model\n",
    "# Note that it cost me about 1-2 cents to run this (pricing may vary by region)\n",
    "# You can skip this and look at my results instead\n",
    "\n",
    "# Tester.test(gpt_4o_frontier, test)"
   ]
  },
  {
   "cell_type": "code",
   "execution_count": 23,
   "id": "53d941cb-5b73-44ea-b893-3a0ce9997066",
   "metadata": {},
   "outputs": [],
   "source": [
    "def claude_3_point_5_haiku(item):\n",
    "    messages = messages_for(item)\n",
    "    system_message = messages[0]['content']\n",
    "    messages = messages[1:]\n",
    "    response = claude.messages.create(\n",
    "        model=\"claude-3-5-haiku-20241022\",\n",
    "        max_tokens=5,\n",
    "        system=system_message,\n",
    "        messages=messages\n",
    "    )\n",
    "    reply = response.content[0].text\n",
    "    return get_price(reply)"
   ]
  },
  {
   "cell_type": "code",
   "execution_count": 24,
   "id": "11dba25d-f562-40f9-9855-40b715b7fc86",
   "metadata": {},
   "outputs": [
    {
     "ename": "AuthenticationError",
     "evalue": "Error code: 401 - {'type': 'error', 'error': {'type': 'authentication_error', 'message': 'invalid x-api-key'}}",
     "output_type": "error",
     "traceback": [
      "\u001b[0;31m---------------------------------------------------------------------------\u001b[0m",
      "\u001b[0;31mAuthenticationError\u001b[0m                       Traceback (most recent call last)",
      "Cell \u001b[0;32mIn[24], line 4\u001b[0m\n\u001b[1;32m      1\u001b[0m \u001b[38;5;66;03m# The function for Claude 3.5 Haiku\u001b[39;00m\n\u001b[1;32m      2\u001b[0m \u001b[38;5;66;03m# You can skip this and look at my results instead\u001b[39;00m\n\u001b[0;32m----> 4\u001b[0m \u001b[43mTester\u001b[49m\u001b[38;5;241;43m.\u001b[39;49m\u001b[43mtest\u001b[49m\u001b[43m(\u001b[49m\u001b[43mclaude_3_point_5_haiku\u001b[49m\u001b[43m,\u001b[49m\u001b[43m \u001b[49m\u001b[43mtest\u001b[49m\u001b[43m)\u001b[49m\n",
      "File \u001b[0;32m~/Projects/llm_engineering/week6/testing.py:77\u001b[0m, in \u001b[0;36mTester.test\u001b[0;34m(cls, function, data)\u001b[0m\n\u001b[1;32m     75\u001b[0m \u001b[38;5;129m@classmethod\u001b[39m\n\u001b[1;32m     76\u001b[0m \u001b[38;5;28;01mdef\u001b[39;00m \u001b[38;5;21mtest\u001b[39m(\u001b[38;5;28mcls\u001b[39m, function, data):\n\u001b[0;32m---> 77\u001b[0m     \u001b[38;5;28;43mcls\u001b[39;49m\u001b[43m(\u001b[49m\u001b[43mfunction\u001b[49m\u001b[43m,\u001b[49m\u001b[43m \u001b[49m\u001b[43mdata\u001b[49m\u001b[43m)\u001b[49m\u001b[38;5;241;43m.\u001b[39;49m\u001b[43mrun\u001b[49m\u001b[43m(\u001b[49m\u001b[43m)\u001b[49m\n",
      "File \u001b[0;32m~/Projects/llm_engineering/week6/testing.py:72\u001b[0m, in \u001b[0;36mTester.run\u001b[0;34m(self)\u001b[0m\n\u001b[1;32m     70\u001b[0m \u001b[38;5;28;01mfor\u001b[39;00m i \u001b[38;5;129;01min\u001b[39;00m \u001b[38;5;28mrange\u001b[39m(\u001b[38;5;28mself\u001b[39m\u001b[38;5;241m.\u001b[39msize):\n\u001b[1;32m     71\u001b[0m     time\u001b[38;5;241m.\u001b[39msleep(\u001b[38;5;241m3\u001b[39m)\n\u001b[0;32m---> 72\u001b[0m     \u001b[38;5;28;43mself\u001b[39;49m\u001b[38;5;241;43m.\u001b[39;49m\u001b[43mrun_datapoint\u001b[49m\u001b[43m(\u001b[49m\u001b[43mi\u001b[49m\u001b[43m)\u001b[49m\n\u001b[1;32m     73\u001b[0m \u001b[38;5;28mself\u001b[39m\u001b[38;5;241m.\u001b[39mreport()\n",
      "File \u001b[0;32m~/Projects/llm_engineering/week6/testing.py:34\u001b[0m, in \u001b[0;36mTester.run_datapoint\u001b[0;34m(self, i)\u001b[0m\n\u001b[1;32m     32\u001b[0m \u001b[38;5;28;01mdef\u001b[39;00m \u001b[38;5;21mrun_datapoint\u001b[39m(\u001b[38;5;28mself\u001b[39m, i):\n\u001b[1;32m     33\u001b[0m     datapoint \u001b[38;5;241m=\u001b[39m \u001b[38;5;28mself\u001b[39m\u001b[38;5;241m.\u001b[39mdata[i]\n\u001b[0;32m---> 34\u001b[0m     guess \u001b[38;5;241m=\u001b[39m \u001b[38;5;28;43mself\u001b[39;49m\u001b[38;5;241;43m.\u001b[39;49m\u001b[43mpredictor\u001b[49m\u001b[43m(\u001b[49m\u001b[43mdatapoint\u001b[49m\u001b[43m)\u001b[49m\n\u001b[1;32m     35\u001b[0m     truth \u001b[38;5;241m=\u001b[39m datapoint\u001b[38;5;241m.\u001b[39mprice\n\u001b[1;32m     36\u001b[0m     error \u001b[38;5;241m=\u001b[39m \u001b[38;5;28mabs\u001b[39m(guess \u001b[38;5;241m-\u001b[39m truth)\n",
      "Cell \u001b[0;32mIn[23], line 5\u001b[0m, in \u001b[0;36mclaude_3_point_5_haiku\u001b[0;34m(item)\u001b[0m\n\u001b[1;32m      3\u001b[0m system_message \u001b[38;5;241m=\u001b[39m messages[\u001b[38;5;241m0\u001b[39m][\u001b[38;5;124m'\u001b[39m\u001b[38;5;124mcontent\u001b[39m\u001b[38;5;124m'\u001b[39m]\n\u001b[1;32m      4\u001b[0m messages \u001b[38;5;241m=\u001b[39m messages[\u001b[38;5;241m1\u001b[39m:]\n\u001b[0;32m----> 5\u001b[0m response \u001b[38;5;241m=\u001b[39m \u001b[43mclaude\u001b[49m\u001b[38;5;241;43m.\u001b[39;49m\u001b[43mmessages\u001b[49m\u001b[38;5;241;43m.\u001b[39;49m\u001b[43mcreate\u001b[49m\u001b[43m(\u001b[49m\n\u001b[1;32m      6\u001b[0m \u001b[43m    \u001b[49m\u001b[43mmodel\u001b[49m\u001b[38;5;241;43m=\u001b[39;49m\u001b[38;5;124;43m\"\u001b[39;49m\u001b[38;5;124;43mclaude-3-5-haiku-20241022\u001b[39;49m\u001b[38;5;124;43m\"\u001b[39;49m\u001b[43m,\u001b[49m\n\u001b[1;32m      7\u001b[0m \u001b[43m    \u001b[49m\u001b[43mmax_tokens\u001b[49m\u001b[38;5;241;43m=\u001b[39;49m\u001b[38;5;241;43m5\u001b[39;49m\u001b[43m,\u001b[49m\n\u001b[1;32m      8\u001b[0m \u001b[43m    \u001b[49m\u001b[43msystem\u001b[49m\u001b[38;5;241;43m=\u001b[39;49m\u001b[43msystem_message\u001b[49m\u001b[43m,\u001b[49m\n\u001b[1;32m      9\u001b[0m \u001b[43m    \u001b[49m\u001b[43mmessages\u001b[49m\u001b[38;5;241;43m=\u001b[39;49m\u001b[43mmessages\u001b[49m\n\u001b[1;32m     10\u001b[0m \u001b[43m\u001b[49m\u001b[43m)\u001b[49m\n\u001b[1;32m     11\u001b[0m reply \u001b[38;5;241m=\u001b[39m response\u001b[38;5;241m.\u001b[39mcontent[\u001b[38;5;241m0\u001b[39m]\u001b[38;5;241m.\u001b[39mtext\n\u001b[1;32m     12\u001b[0m \u001b[38;5;28;01mreturn\u001b[39;00m get_price(reply)\n",
      "File \u001b[0;32m~/miniconda3/envs/llms/lib/python3.11/site-packages/anthropic/_utils/_utils.py:275\u001b[0m, in \u001b[0;36mrequired_args.<locals>.inner.<locals>.wrapper\u001b[0;34m(*args, **kwargs)\u001b[0m\n\u001b[1;32m    273\u001b[0m             msg \u001b[38;5;241m=\u001b[39m \u001b[38;5;124mf\u001b[39m\u001b[38;5;124m\"\u001b[39m\u001b[38;5;124mMissing required argument: \u001b[39m\u001b[38;5;132;01m{\u001b[39;00mquote(missing[\u001b[38;5;241m0\u001b[39m])\u001b[38;5;132;01m}\u001b[39;00m\u001b[38;5;124m\"\u001b[39m\n\u001b[1;32m    274\u001b[0m     \u001b[38;5;28;01mraise\u001b[39;00m \u001b[38;5;167;01mTypeError\u001b[39;00m(msg)\n\u001b[0;32m--> 275\u001b[0m \u001b[38;5;28;01mreturn\u001b[39;00m \u001b[43mfunc\u001b[49m\u001b[43m(\u001b[49m\u001b[38;5;241;43m*\u001b[39;49m\u001b[43margs\u001b[49m\u001b[43m,\u001b[49m\u001b[43m \u001b[49m\u001b[38;5;241;43m*\u001b[39;49m\u001b[38;5;241;43m*\u001b[39;49m\u001b[43mkwargs\u001b[49m\u001b[43m)\u001b[49m\n",
      "File \u001b[0;32m~/miniconda3/envs/llms/lib/python3.11/site-packages/anthropic/resources/messages/messages.py:901\u001b[0m, in \u001b[0;36mMessages.create\u001b[0;34m(self, max_tokens, messages, model, metadata, stop_sequences, stream, system, temperature, tool_choice, tools, top_k, top_p, extra_headers, extra_query, extra_body, timeout)\u001b[0m\n\u001b[1;32m    894\u001b[0m \u001b[38;5;28;01mif\u001b[39;00m model \u001b[38;5;129;01min\u001b[39;00m DEPRECATED_MODELS:\n\u001b[1;32m    895\u001b[0m     warnings\u001b[38;5;241m.\u001b[39mwarn(\n\u001b[1;32m    896\u001b[0m         \u001b[38;5;124mf\u001b[39m\u001b[38;5;124m\"\u001b[39m\u001b[38;5;124mThe model \u001b[39m\u001b[38;5;124m'\u001b[39m\u001b[38;5;132;01m{\u001b[39;00mmodel\u001b[38;5;132;01m}\u001b[39;00m\u001b[38;5;124m'\u001b[39m\u001b[38;5;124m is deprecated and will reach end-of-life on \u001b[39m\u001b[38;5;132;01m{\u001b[39;00mDEPRECATED_MODELS[model]\u001b[38;5;132;01m}\u001b[39;00m\u001b[38;5;124m.\u001b[39m\u001b[38;5;130;01m\\n\u001b[39;00m\u001b[38;5;124mPlease migrate to a newer model. Visit https://docs.anthropic.com/en/docs/resources/model-deprecations for more information.\u001b[39m\u001b[38;5;124m\"\u001b[39m,\n\u001b[1;32m    897\u001b[0m         \u001b[38;5;167;01mDeprecationWarning\u001b[39;00m,\n\u001b[1;32m    898\u001b[0m         stacklevel\u001b[38;5;241m=\u001b[39m\u001b[38;5;241m3\u001b[39m,\n\u001b[1;32m    899\u001b[0m     )\n\u001b[0;32m--> 901\u001b[0m \u001b[38;5;28;01mreturn\u001b[39;00m \u001b[38;5;28;43mself\u001b[39;49m\u001b[38;5;241;43m.\u001b[39;49m\u001b[43m_post\u001b[49m\u001b[43m(\u001b[49m\n\u001b[1;32m    902\u001b[0m \u001b[43m    \u001b[49m\u001b[38;5;124;43m\"\u001b[39;49m\u001b[38;5;124;43m/v1/messages\u001b[39;49m\u001b[38;5;124;43m\"\u001b[39;49m\u001b[43m,\u001b[49m\n\u001b[1;32m    903\u001b[0m \u001b[43m    \u001b[49m\u001b[43mbody\u001b[49m\u001b[38;5;241;43m=\u001b[39;49m\u001b[43mmaybe_transform\u001b[49m\u001b[43m(\u001b[49m\n\u001b[1;32m    904\u001b[0m \u001b[43m        \u001b[49m\u001b[43m{\u001b[49m\n\u001b[1;32m    905\u001b[0m \u001b[43m            \u001b[49m\u001b[38;5;124;43m\"\u001b[39;49m\u001b[38;5;124;43mmax_tokens\u001b[39;49m\u001b[38;5;124;43m\"\u001b[39;49m\u001b[43m:\u001b[49m\u001b[43m \u001b[49m\u001b[43mmax_tokens\u001b[49m\u001b[43m,\u001b[49m\n\u001b[1;32m    906\u001b[0m \u001b[43m            \u001b[49m\u001b[38;5;124;43m\"\u001b[39;49m\u001b[38;5;124;43mmessages\u001b[39;49m\u001b[38;5;124;43m\"\u001b[39;49m\u001b[43m:\u001b[49m\u001b[43m \u001b[49m\u001b[43mmessages\u001b[49m\u001b[43m,\u001b[49m\n\u001b[1;32m    907\u001b[0m \u001b[43m            \u001b[49m\u001b[38;5;124;43m\"\u001b[39;49m\u001b[38;5;124;43mmodel\u001b[39;49m\u001b[38;5;124;43m\"\u001b[39;49m\u001b[43m:\u001b[49m\u001b[43m \u001b[49m\u001b[43mmodel\u001b[49m\u001b[43m,\u001b[49m\n\u001b[1;32m    908\u001b[0m \u001b[43m            \u001b[49m\u001b[38;5;124;43m\"\u001b[39;49m\u001b[38;5;124;43mmetadata\u001b[39;49m\u001b[38;5;124;43m\"\u001b[39;49m\u001b[43m:\u001b[49m\u001b[43m \u001b[49m\u001b[43mmetadata\u001b[49m\u001b[43m,\u001b[49m\n\u001b[1;32m    909\u001b[0m \u001b[43m            \u001b[49m\u001b[38;5;124;43m\"\u001b[39;49m\u001b[38;5;124;43mstop_sequences\u001b[39;49m\u001b[38;5;124;43m\"\u001b[39;49m\u001b[43m:\u001b[49m\u001b[43m \u001b[49m\u001b[43mstop_sequences\u001b[49m\u001b[43m,\u001b[49m\n\u001b[1;32m    910\u001b[0m \u001b[43m            \u001b[49m\u001b[38;5;124;43m\"\u001b[39;49m\u001b[38;5;124;43mstream\u001b[39;49m\u001b[38;5;124;43m\"\u001b[39;49m\u001b[43m:\u001b[49m\u001b[43m \u001b[49m\u001b[43mstream\u001b[49m\u001b[43m,\u001b[49m\n\u001b[1;32m    911\u001b[0m \u001b[43m            \u001b[49m\u001b[38;5;124;43m\"\u001b[39;49m\u001b[38;5;124;43msystem\u001b[39;49m\u001b[38;5;124;43m\"\u001b[39;49m\u001b[43m:\u001b[49m\u001b[43m \u001b[49m\u001b[43msystem\u001b[49m\u001b[43m,\u001b[49m\n\u001b[1;32m    912\u001b[0m \u001b[43m            \u001b[49m\u001b[38;5;124;43m\"\u001b[39;49m\u001b[38;5;124;43mtemperature\u001b[39;49m\u001b[38;5;124;43m\"\u001b[39;49m\u001b[43m:\u001b[49m\u001b[43m \u001b[49m\u001b[43mtemperature\u001b[49m\u001b[43m,\u001b[49m\n\u001b[1;32m    913\u001b[0m \u001b[43m            \u001b[49m\u001b[38;5;124;43m\"\u001b[39;49m\u001b[38;5;124;43mtool_choice\u001b[39;49m\u001b[38;5;124;43m\"\u001b[39;49m\u001b[43m:\u001b[49m\u001b[43m \u001b[49m\u001b[43mtool_choice\u001b[49m\u001b[43m,\u001b[49m\n\u001b[1;32m    914\u001b[0m \u001b[43m            \u001b[49m\u001b[38;5;124;43m\"\u001b[39;49m\u001b[38;5;124;43mtools\u001b[39;49m\u001b[38;5;124;43m\"\u001b[39;49m\u001b[43m:\u001b[49m\u001b[43m \u001b[49m\u001b[43mtools\u001b[49m\u001b[43m,\u001b[49m\n\u001b[1;32m    915\u001b[0m \u001b[43m            \u001b[49m\u001b[38;5;124;43m\"\u001b[39;49m\u001b[38;5;124;43mtop_k\u001b[39;49m\u001b[38;5;124;43m\"\u001b[39;49m\u001b[43m:\u001b[49m\u001b[43m \u001b[49m\u001b[43mtop_k\u001b[49m\u001b[43m,\u001b[49m\n\u001b[1;32m    916\u001b[0m \u001b[43m            \u001b[49m\u001b[38;5;124;43m\"\u001b[39;49m\u001b[38;5;124;43mtop_p\u001b[39;49m\u001b[38;5;124;43m\"\u001b[39;49m\u001b[43m:\u001b[49m\u001b[43m \u001b[49m\u001b[43mtop_p\u001b[49m\u001b[43m,\u001b[49m\n\u001b[1;32m    917\u001b[0m \u001b[43m        \u001b[49m\u001b[43m}\u001b[49m\u001b[43m,\u001b[49m\n\u001b[1;32m    918\u001b[0m \u001b[43m        \u001b[49m\u001b[43mmessage_create_params\u001b[49m\u001b[38;5;241;43m.\u001b[39;49m\u001b[43mMessageCreateParams\u001b[49m\u001b[43m,\u001b[49m\n\u001b[1;32m    919\u001b[0m \u001b[43m    \u001b[49m\u001b[43m)\u001b[49m\u001b[43m,\u001b[49m\n\u001b[1;32m    920\u001b[0m \u001b[43m    \u001b[49m\u001b[43moptions\u001b[49m\u001b[38;5;241;43m=\u001b[39;49m\u001b[43mmake_request_options\u001b[49m\u001b[43m(\u001b[49m\n\u001b[1;32m    921\u001b[0m \u001b[43m        \u001b[49m\u001b[43mextra_headers\u001b[49m\u001b[38;5;241;43m=\u001b[39;49m\u001b[43mextra_headers\u001b[49m\u001b[43m,\u001b[49m\u001b[43m \u001b[49m\u001b[43mextra_query\u001b[49m\u001b[38;5;241;43m=\u001b[39;49m\u001b[43mextra_query\u001b[49m\u001b[43m,\u001b[49m\u001b[43m \u001b[49m\u001b[43mextra_body\u001b[49m\u001b[38;5;241;43m=\u001b[39;49m\u001b[43mextra_body\u001b[49m\u001b[43m,\u001b[49m\u001b[43m \u001b[49m\u001b[43mtimeout\u001b[49m\u001b[38;5;241;43m=\u001b[39;49m\u001b[43mtimeout\u001b[49m\n\u001b[1;32m    922\u001b[0m \u001b[43m    \u001b[49m\u001b[43m)\u001b[49m\u001b[43m,\u001b[49m\n\u001b[1;32m    923\u001b[0m \u001b[43m    \u001b[49m\u001b[43mcast_to\u001b[49m\u001b[38;5;241;43m=\u001b[39;49m\u001b[43mMessage\u001b[49m\u001b[43m,\u001b[49m\n\u001b[1;32m    924\u001b[0m \u001b[43m    \u001b[49m\u001b[43mstream\u001b[49m\u001b[38;5;241;43m=\u001b[39;49m\u001b[43mstream\u001b[49m\u001b[43m \u001b[49m\u001b[38;5;129;43;01mor\u001b[39;49;00m\u001b[43m \u001b[49m\u001b[38;5;28;43;01mFalse\u001b[39;49;00m\u001b[43m,\u001b[49m\n\u001b[1;32m    925\u001b[0m \u001b[43m    \u001b[49m\u001b[43mstream_cls\u001b[49m\u001b[38;5;241;43m=\u001b[39;49m\u001b[43mStream\u001b[49m\u001b[43m[\u001b[49m\u001b[43mRawMessageStreamEvent\u001b[49m\u001b[43m]\u001b[49m\u001b[43m,\u001b[49m\n\u001b[1;32m    926\u001b[0m \u001b[43m\u001b[49m\u001b[43m)\u001b[49m\n",
      "File \u001b[0;32m~/miniconda3/envs/llms/lib/python3.11/site-packages/anthropic/_base_client.py:1279\u001b[0m, in \u001b[0;36mSyncAPIClient.post\u001b[0;34m(self, path, cast_to, body, options, files, stream, stream_cls)\u001b[0m\n\u001b[1;32m   1265\u001b[0m \u001b[38;5;28;01mdef\u001b[39;00m \u001b[38;5;21mpost\u001b[39m(\n\u001b[1;32m   1266\u001b[0m     \u001b[38;5;28mself\u001b[39m,\n\u001b[1;32m   1267\u001b[0m     path: \u001b[38;5;28mstr\u001b[39m,\n\u001b[0;32m   (...)\u001b[0m\n\u001b[1;32m   1274\u001b[0m     stream_cls: \u001b[38;5;28mtype\u001b[39m[_StreamT] \u001b[38;5;241m|\u001b[39m \u001b[38;5;28;01mNone\u001b[39;00m \u001b[38;5;241m=\u001b[39m \u001b[38;5;28;01mNone\u001b[39;00m,\n\u001b[1;32m   1275\u001b[0m ) \u001b[38;5;241m-\u001b[39m\u001b[38;5;241m>\u001b[39m ResponseT \u001b[38;5;241m|\u001b[39m _StreamT:\n\u001b[1;32m   1276\u001b[0m     opts \u001b[38;5;241m=\u001b[39m FinalRequestOptions\u001b[38;5;241m.\u001b[39mconstruct(\n\u001b[1;32m   1277\u001b[0m         method\u001b[38;5;241m=\u001b[39m\u001b[38;5;124m\"\u001b[39m\u001b[38;5;124mpost\u001b[39m\u001b[38;5;124m\"\u001b[39m, url\u001b[38;5;241m=\u001b[39mpath, json_data\u001b[38;5;241m=\u001b[39mbody, files\u001b[38;5;241m=\u001b[39mto_httpx_files(files), \u001b[38;5;241m*\u001b[39m\u001b[38;5;241m*\u001b[39moptions\n\u001b[1;32m   1278\u001b[0m     )\n\u001b[0;32m-> 1279\u001b[0m     \u001b[38;5;28;01mreturn\u001b[39;00m cast(ResponseT, \u001b[38;5;28;43mself\u001b[39;49m\u001b[38;5;241;43m.\u001b[39;49m\u001b[43mrequest\u001b[49m\u001b[43m(\u001b[49m\u001b[43mcast_to\u001b[49m\u001b[43m,\u001b[49m\u001b[43m \u001b[49m\u001b[43mopts\u001b[49m\u001b[43m,\u001b[49m\u001b[43m \u001b[49m\u001b[43mstream\u001b[49m\u001b[38;5;241;43m=\u001b[39;49m\u001b[43mstream\u001b[49m\u001b[43m,\u001b[49m\u001b[43m \u001b[49m\u001b[43mstream_cls\u001b[49m\u001b[38;5;241;43m=\u001b[39;49m\u001b[43mstream_cls\u001b[49m\u001b[43m)\u001b[49m)\n",
      "File \u001b[0;32m~/miniconda3/envs/llms/lib/python3.11/site-packages/anthropic/_base_client.py:956\u001b[0m, in \u001b[0;36mSyncAPIClient.request\u001b[0;34m(self, cast_to, options, remaining_retries, stream, stream_cls)\u001b[0m\n\u001b[1;32m    953\u001b[0m \u001b[38;5;28;01melse\u001b[39;00m:\n\u001b[1;32m    954\u001b[0m     retries_taken \u001b[38;5;241m=\u001b[39m \u001b[38;5;241m0\u001b[39m\n\u001b[0;32m--> 956\u001b[0m \u001b[38;5;28;01mreturn\u001b[39;00m \u001b[38;5;28;43mself\u001b[39;49m\u001b[38;5;241;43m.\u001b[39;49m\u001b[43m_request\u001b[49m\u001b[43m(\u001b[49m\n\u001b[1;32m    957\u001b[0m \u001b[43m    \u001b[49m\u001b[43mcast_to\u001b[49m\u001b[38;5;241;43m=\u001b[39;49m\u001b[43mcast_to\u001b[49m\u001b[43m,\u001b[49m\n\u001b[1;32m    958\u001b[0m \u001b[43m    \u001b[49m\u001b[43moptions\u001b[49m\u001b[38;5;241;43m=\u001b[39;49m\u001b[43moptions\u001b[49m\u001b[43m,\u001b[49m\n\u001b[1;32m    959\u001b[0m \u001b[43m    \u001b[49m\u001b[43mstream\u001b[49m\u001b[38;5;241;43m=\u001b[39;49m\u001b[43mstream\u001b[49m\u001b[43m,\u001b[49m\n\u001b[1;32m    960\u001b[0m \u001b[43m    \u001b[49m\u001b[43mstream_cls\u001b[49m\u001b[38;5;241;43m=\u001b[39;49m\u001b[43mstream_cls\u001b[49m\u001b[43m,\u001b[49m\n\u001b[1;32m    961\u001b[0m \u001b[43m    \u001b[49m\u001b[43mretries_taken\u001b[49m\u001b[38;5;241;43m=\u001b[39;49m\u001b[43mretries_taken\u001b[49m\u001b[43m,\u001b[49m\n\u001b[1;32m    962\u001b[0m \u001b[43m\u001b[49m\u001b[43m)\u001b[49m\n",
      "File \u001b[0;32m~/miniconda3/envs/llms/lib/python3.11/site-packages/anthropic/_base_client.py:1060\u001b[0m, in \u001b[0;36mSyncAPIClient._request\u001b[0;34m(self, cast_to, options, retries_taken, stream, stream_cls)\u001b[0m\n\u001b[1;32m   1057\u001b[0m         err\u001b[38;5;241m.\u001b[39mresponse\u001b[38;5;241m.\u001b[39mread()\n\u001b[1;32m   1059\u001b[0m     log\u001b[38;5;241m.\u001b[39mdebug(\u001b[38;5;124m\"\u001b[39m\u001b[38;5;124mRe-raising status error\u001b[39m\u001b[38;5;124m\"\u001b[39m)\n\u001b[0;32m-> 1060\u001b[0m     \u001b[38;5;28;01mraise\u001b[39;00m \u001b[38;5;28mself\u001b[39m\u001b[38;5;241m.\u001b[39m_make_status_error_from_response(err\u001b[38;5;241m.\u001b[39mresponse) \u001b[38;5;28;01mfrom\u001b[39;00m \u001b[38;5;28;01mNone\u001b[39;00m\n\u001b[1;32m   1062\u001b[0m \u001b[38;5;28;01mreturn\u001b[39;00m \u001b[38;5;28mself\u001b[39m\u001b[38;5;241m.\u001b[39m_process_response(\n\u001b[1;32m   1063\u001b[0m     cast_to\u001b[38;5;241m=\u001b[39mcast_to,\n\u001b[1;32m   1064\u001b[0m     options\u001b[38;5;241m=\u001b[39moptions,\n\u001b[0;32m   (...)\u001b[0m\n\u001b[1;32m   1068\u001b[0m     retries_taken\u001b[38;5;241m=\u001b[39mretries_taken,\n\u001b[1;32m   1069\u001b[0m )\n",
      "\u001b[0;31mAuthenticationError\u001b[0m: Error code: 401 - {'type': 'error', 'error': {'type': 'authentication_error', 'message': 'invalid x-api-key'}}"
     ]
    }
   ],
   "source": [
    "# The function for Claude 3.5 Haiku\n",
    "# You can skip this and look at my results instead\n",
    "\n",
    "Tester.test(claude_3_point_5_haiku, test)"
   ]
  },
  {
   "cell_type": "code",
   "execution_count": null,
   "id": "77428dfb-d8f4-4477-8265-77b4b0badd39",
   "metadata": {},
   "outputs": [],
   "source": []
  }
 ],
 "metadata": {
  "kernelspec": {
   "display_name": "llms",
   "language": "python",
   "name": "python3"
  },
  "language_info": {
   "codemirror_mode": {
    "name": "ipython",
    "version": 3
   },
   "file_extension": ".py",
   "mimetype": "text/x-python",
   "name": "python",
   "nbconvert_exporter": "python",
   "pygments_lexer": "ipython3",
   "version": "3.11.11"
  }
 },
 "nbformat": 4,
 "nbformat_minor": 5
}
