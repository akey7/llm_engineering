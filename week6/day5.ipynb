{
 "cells": [
  {
   "cell_type": "markdown",
   "id": "db8736a7-ed94-441c-9556-831fa57b5a10",
   "metadata": {},
   "source": [
    "# The Product Pricer Continued\n",
    "\n",
    "A model that can estimate how much something costs, from its description.\n",
    "\n",
    "## AT LAST - it's time for Fine Tuning!\n",
    "\n",
    "After all this data preparation, and old school machine learning, we've finally arrived at the moment you've been waiting for. Fine-tuning a model."
   ]
  },
  {
   "cell_type": "code",
   "execution_count": 2,
   "id": "681c717b-4c24-4ac3-a5f3-3c5881d6e70a",
   "metadata": {},
   "outputs": [],
   "source": [
    "# imports\n",
    "\n",
    "import os\n",
    "import re\n",
    "import math\n",
    "import json\n",
    "import random\n",
    "from dotenv import load_dotenv\n",
    "from huggingface_hub import login\n",
    "from items import Item\n",
    "import matplotlib.pyplot as plt\n",
    "import numpy as np\n",
    "import pickle\n",
    "from collections import Counter\n",
    "from openai import OpenAI\n",
    "from anthropic import Anthropic"
   ]
  },
  {
   "cell_type": "code",
   "execution_count": 3,
   "id": "21a3833e-4093-43b0-8f7b-839c50b911ea",
   "metadata": {},
   "outputs": [],
   "source": [
    "# moved our Tester into a separate package\n",
    "# call it with Tester.test(function_name, test_dataset)\n",
    "\n",
    "from testing import Tester"
   ]
  },
  {
   "cell_type": "code",
   "execution_count": 4,
   "id": "36d05bdc-0155-4c72-a7ee-aa4e614ffd3c",
   "metadata": {},
   "outputs": [],
   "source": [
    "# environment\n",
    "\n",
    "load_dotenv()\n",
    "os.environ['OPENAI_API_KEY'] = os.getenv('OPENAI_API_KEY', 'your-key-if-not-using-env')\n",
    "os.environ['ANTHROPIC_API_KEY'] = os.getenv('CLAUDE_API_KEY', 'your-key-if-not-using-env')\n",
    "os.environ['HF_TOKEN'] = os.getenv('HF_TOKEN', 'your-key-if-not-using-env')"
   ]
  },
  {
   "cell_type": "code",
   "execution_count": 5,
   "id": "4dd3aad2-6f99-433c-8792-e461d2f06622",
   "metadata": {},
   "outputs": [
    {
     "name": "stderr",
     "output_type": "stream",
     "text": [
      "Note: Environment variable`HF_TOKEN` is set and is the current active token independently from the token you've just configured.\n"
     ]
    }
   ],
   "source": [
    "# Log in to HuggingFace\n",
    "\n",
    "hf_token = os.environ['HF_TOKEN']\n",
    "login(hf_token, add_to_git_credential=True)"
   ]
  },
  {
   "cell_type": "code",
   "execution_count": 6,
   "id": "b0a6fb86-74a4-403c-ab25-6db2d74e9d2b",
   "metadata": {},
   "outputs": [],
   "source": [
    "openai = OpenAI()"
   ]
  },
  {
   "cell_type": "code",
   "execution_count": 7,
   "id": "c830ed3e-24ee-4af6-a07b-a1bfdcd39278",
   "metadata": {},
   "outputs": [],
   "source": [
    "%matplotlib inline"
   ]
  },
  {
   "cell_type": "code",
   "execution_count": 8,
   "id": "5c9b05f4-c9eb-462c-8d86-de9140a2d985",
   "metadata": {},
   "outputs": [],
   "source": [
    "# Let's avoid curating all our data again! Load in the pickle files:\n",
    "\n",
    "with open('train.pkl', 'rb') as file:\n",
    "    train = pickle.load(file)\n",
    "\n",
    "with open('test.pkl', 'rb') as file:\n",
    "    test = pickle.load(file)"
   ]
  },
  {
   "cell_type": "code",
   "execution_count": 9,
   "id": "e8367135-f40e-43e1-8f3c-09e990ab1194",
   "metadata": {},
   "outputs": [],
   "source": [
    "# OpenAI recommends fine-tuning with populations of 50-100 examples\n",
    "# But as our examples are very small, I'm suggesting we go with 200 examples (and 1 epoch)\n",
    "\n",
    "fine_tune_train = train[:200]\n",
    "fine_tune_validation = train[200:250]"
   ]
  },
  {
   "cell_type": "markdown",
   "id": "8be4a889-81c3-42b1-a2fc-034cdc7321a6",
   "metadata": {},
   "source": [
    "# Step 1\n",
    "\n",
    "Prepare our data for fine-tuning in JSONL (JSON Lines) format and upload to OpenAI"
   ]
  },
  {
   "cell_type": "code",
   "execution_count": 10,
   "id": "8ae2fb3c-1cff-4ce3-911e-627c970edd7b",
   "metadata": {},
   "outputs": [],
   "source": [
    "# First let's work on a good prompt for a Frontier model\n",
    "# Notice that I'm removing the \" to the nearest dollar\"\n",
    "# When we train our own models, we'll need to make the problem as easy as possible, \n",
    "# but a Frontier model needs no such simplification.\n",
    "\n",
    "def messages_for(item):\n",
    "    system_message = \"You estimate prices of items. Reply only with the price, no explanation\"\n",
    "    user_prompt = item.test_prompt().replace(\" to the nearest dollar\",\"\").replace(\"\\n\\nPrice is $\",\"\")\n",
    "    return [\n",
    "        {\"role\": \"system\", \"content\": system_message},\n",
    "        {\"role\": \"user\", \"content\": user_prompt},\n",
    "        {\"role\": \"assistant\", \"content\": f\"Price is ${item.price:.2f}\"}\n",
    "    ]"
   ]
  },
  {
   "cell_type": "code",
   "execution_count": 11,
   "id": "1aa280f6-1227-426a-a2e2-1ce985feba1e",
   "metadata": {},
   "outputs": [
    {
     "data": {
      "text/plain": [
       "[{'role': 'system',\n",
       "  'content': 'You estimate prices of items. Reply only with the price, no explanation'},\n",
       " {'role': 'user',\n",
       "  'content': 'How much does this cost?\\n\\nBose SoundLink Bluetooth Mobile Speaker II\\nEnjoy your music on the go with this Bose SoundLink wireless mobile speaker that features Bluetooth technology for an easy connection to compatible devices. The integrated bifold cover unfolds into a stand to enable versatile placement. This refurbished product is tested and certified to look and work like new. The refurbishing process includes functionality testing, basic cleaning, inspection, and repackaging. The product ships with all relevant accessories, and may arrive in a generic box Dimensions 13.3 x 7.5 x 5.5 inches, Weight 4.44 pounds, model number Batteries 1 Lithium Ion batteries required., Rank Electronics 55339, Portable Bluetooth Speakers 1594, Is Discontinued No, Available July 23, 2014, Manufacturer'},\n",
       " {'role': 'assistant', 'content': 'Price is $158.00'}]"
      ]
     },
     "execution_count": 11,
     "metadata": {},
     "output_type": "execute_result"
    }
   ],
   "source": [
    "messages_for(train[0])"
   ]
  },
  {
   "cell_type": "code",
   "execution_count": 12,
   "id": "c0e5b56c-8a0b-4d8e-a112-ce87efb4e152",
   "metadata": {},
   "outputs": [],
   "source": [
    "# Convert the items into a list of json objects - a \"jsonl\" string\n",
    "# Each row represents a message in the form:\n",
    "# {\"messages\" : [{\"role\": \"system\", \"content\": \"You estimate prices...\n",
    "\n",
    "\n",
    "def make_jsonl(items):\n",
    "    result = \"\"\n",
    "    for item in items:\n",
    "        messages = messages_for(item)\n",
    "        messages_str = json.dumps(messages)\n",
    "        result += '{\"messages\": ' + messages_str +'}\\n'\n",
    "    return result.strip()"
   ]
  },
  {
   "cell_type": "code",
   "execution_count": 13,
   "id": "5e72de93-a6a6-4b35-855e-15786b97bf5f",
   "metadata": {},
   "outputs": [
    {
     "name": "stdout",
     "output_type": "stream",
     "text": [
      "{\"messages\": [{\"role\": \"system\", \"content\": \"You estimate prices of items. Reply only with the price, no explanation\"}, {\"role\": \"user\", \"content\": \"How much does this cost?\\n\\nBose SoundLink Bluetooth Mobile Speaker II\\nEnjoy your music on the go with this Bose SoundLink wireless mobile speaker that features Bluetooth technology for an easy connection to compatible devices. The integrated bifold cover unfolds into a stand to enable versatile placement. This refurbished product is tested and certified to look and work like new. The refurbishing process includes functionality testing, basic cleaning, inspection, and repackaging. The product ships with all relevant accessories, and may arrive in a generic box Dimensions 13.3 x 7.5 x 5.5 inches, Weight 4.44 pounds, model number Batteries 1 Lithium Ion batteries required., Rank Electronics 55339, Portable Bluetooth Speakers 1594, Is Discontinued No, Available July 23, 2014, Manufacturer\"}, {\"role\": \"assistant\", \"content\": \"Price is $158.00\"}]}\n",
      "{\"messages\": [{\"role\": \"system\", \"content\": \"You estimate prices of items. Reply only with the price, no explanation\"}, {\"role\": \"user\", \"content\": \"How much does this cost?\\n\\nKoolertron 5MP USB Digital Microscope Magnifier Video Camera, 8 LED Illumination with Intensity Control,Base Stand,Software for Windows, Mac, Vista\\nNote\\uff1aIf your computer cannot recognize the CD,you can download AMCAP from Google or contact us directly. Features Image sensor 5 Mega Pixels (Real Resolution) Still Image Capture Resolution 2592 x 1944, 2048 x 1536, 1600 x 1200, 1280 x 960 Video Capture Resolution 1280 x 960 Video Format AVI Photo format JPEG Focus Range Manual Focus from 0 mm to 150 mm Magnification Ratio Light Source 8 LED (Adjustable by Control Wheel) PC Interface USB2.0 Power Source 5V DC from\"}, {\"role\": \"assistant\", \"content\": \"Price is $75.99\"}]}\n",
      "{\"messages\": [{\"role\": \"system\", \"content\": \"You estimate prices of items. Reply only with the price, no explanation\"}, {\"role\": \"user\", \"content\": \"How much does this cost?\\n\\nAudioQuest Cinnamon 48 3.0m 8K-10K 48Gbps HDMI Cable\\nAudioQuest Cinnamon 48 HDMI cables can transfer up to professional 10K Ultra HD video. The incredible 48Gbps data rate is made possible by four balanced audio/video pairs each capable of enabling a surprisingly stronger audio/video experience. Increasingly thick layers of silver plating are applied to AudioQuest\\u2019s Long-Grain Copper (LGC) conductors to improve Noise-Dissipation. Placing the superior metal on the outside of the conductor produces the greatest benefit on overall performance. In addition to all 19 HDMI conductors being Direction-Controlled to reduce RF Noise, AudioQuest Cinnamon 48 HDMI cables feature a metal-layer shield around the 4 FRL\"}, {\"role\": \"assistant\", \"content\": \"Price is $239.95\"}]}\n"
     ]
    }
   ],
   "source": [
    "print(make_jsonl(train[:3]))"
   ]
  },
  {
   "cell_type": "code",
   "execution_count": 14,
   "id": "7734bff0-95c4-4e67-a87e-7e2254e2c67d",
   "metadata": {},
   "outputs": [],
   "source": [
    "# Convert the items into jsonl and write them to a file\n",
    "\n",
    "def write_jsonl(items, filename):\n",
    "    with open(filename, \"w\") as f:\n",
    "        jsonl = make_jsonl(items)\n",
    "        f.write(jsonl)"
   ]
  },
  {
   "cell_type": "code",
   "execution_count": 15,
   "id": "393d3ad8-999a-4f99-8c04-339d9166d604",
   "metadata": {},
   "outputs": [],
   "source": [
    "write_jsonl(fine_tune_train, \"fine_tune_train.jsonl\")"
   ]
  },
  {
   "cell_type": "code",
   "execution_count": 16,
   "id": "8e23927f-d73e-4668-ac20-abe6f14a56cb",
   "metadata": {},
   "outputs": [],
   "source": [
    "write_jsonl(fine_tune_validation, \"fine_tune_validation.jsonl\")"
   ]
  },
  {
   "cell_type": "code",
   "execution_count": 17,
   "id": "d59ad8d2-c61a-448e-b7ed-232f1606970f",
   "metadata": {},
   "outputs": [],
   "source": [
    "with open(\"fine_tune_train.jsonl\", \"rb\") as f:\n",
    "    train_file = openai.files.create(file=f, purpose=\"fine-tune\")"
   ]
  },
  {
   "cell_type": "code",
   "execution_count": 18,
   "id": "083fefba-fd54-47ce-9ff3-aabbc200846f",
   "metadata": {},
   "outputs": [
    {
     "data": {
      "text/plain": [
       "FileObject(id='file-BKKgG7ZA3i75q1vVettcKA', bytes=186933, created_at=1735512230, filename='fine_tune_train.jsonl', object='file', purpose='fine-tune', status='processed', status_details=None)"
      ]
     },
     "execution_count": 18,
     "metadata": {},
     "output_type": "execute_result"
    }
   ],
   "source": [
    "train_file"
   ]
  },
  {
   "cell_type": "code",
   "execution_count": 19,
   "id": "97df3360-0760-4422-a556-5f26d23de6dc",
   "metadata": {},
   "outputs": [],
   "source": [
    "with open(\"fine_tune_validation.jsonl\", \"rb\") as f:\n",
    "    validation_file = openai.files.create(file=f, purpose=\"fine-tune\")"
   ]
  },
  {
   "cell_type": "code",
   "execution_count": 20,
   "id": "a1abb8f3-9e52-4061-970c-fcf399d8ffa3",
   "metadata": {},
   "outputs": [
    {
     "data": {
      "text/plain": [
       "FileObject(id='file-HCCKXRRcjPBF35tFg46SGD', bytes=46786, created_at=1735512235, filename='fine_tune_validation.jsonl', object='file', purpose='fine-tune', status='processed', status_details=None)"
      ]
     },
     "execution_count": 20,
     "metadata": {},
     "output_type": "execute_result"
    }
   ],
   "source": [
    "validation_file"
   ]
  },
  {
   "cell_type": "markdown",
   "id": "466052b9-9fb9-48f6-8cf9-c74e6ddc1394",
   "metadata": {},
   "source": [
    "# Step 2\n",
    "\n",
    "I love Weights and Biases - a beautiful, free platform for monitoring training runs.  \n",
    "Weights and Biases is integrated with OpenAI for fine-tuning.\n",
    "\n",
    "First set up your weights & biases free account at:\n",
    "\n",
    "https://wandb.ai\n",
    "\n",
    "From the Avatar >> Settings menu, near the bottom, you can create an API key.\n",
    "\n",
    "Then visit the OpenAI dashboard at:\n",
    "\n",
    "https://platform.openai.com/account/organization\n",
    "\n",
    "In the integrations section, you can add your Weights & Biases key.\n",
    "\n",
    "## And now time to Fine-tune!"
   ]
  },
  {
   "cell_type": "code",
   "execution_count": 23,
   "id": "c7add1a7-a746-4d6e-a5f8-e25629b8b527",
   "metadata": {},
   "outputs": [],
   "source": [
    "wandb_integration = {\"type\": \"wandb\", \"wandb\": {\"project\": \"gpt-pricer\"}}"
   ]
  },
  {
   "cell_type": "code",
   "execution_count": 22,
   "id": "49801e69-9277-4deb-9f33-99efb6b45ac2",
   "metadata": {},
   "outputs": [
    {
     "data": {
      "text/plain": [
       "'file-BKKgG7ZA3i75q1vVettcKA'"
      ]
     },
     "execution_count": 22,
     "metadata": {},
     "output_type": "execute_result"
    }
   ],
   "source": [
    "train_file.id"
   ]
  },
  {
   "cell_type": "code",
   "execution_count": 24,
   "id": "45421b86-5531-4e42-ab19-d6abbb8f4c13",
   "metadata": {},
   "outputs": [
    {
     "data": {
      "text/plain": [
       "FineTuningJob(id='ftjob-e10RDwgHL7AkC8iEO9bcAM2c', created_at=1735512572, error=Error(code=None, message=None, param=None), fine_tuned_model=None, finished_at=None, hyperparameters=Hyperparameters(batch_size='auto', learning_rate_multiplier='auto', n_epochs=1), model='gpt-4o-mini-2024-07-18', object='fine_tuning.job', organization_id='org-m7K1ZpWIMZKmaGUWQXj977ng', result_files=[], seed=42, status='validating_files', trained_tokens=None, training_file='file-BKKgG7ZA3i75q1vVettcKA', validation_file='file-HCCKXRRcjPBF35tFg46SGD', estimated_finish=None, integrations=[FineTuningJobWandbIntegrationObject(type='wandb', wandb=FineTuningJobWandbIntegration(project='gpt-pricer', entity=None, name=None, tags=None, run_id='ftjob-e10RDwgHL7AkC8iEO9bcAM2c'))], method=Method(dpo=None, supervised=MethodSupervised(hyperparameters=MethodSupervisedHyperparameters(batch_size='auto', learning_rate_multiplier='auto', n_epochs=1)), type='supervised'), user_provided_suffix='pricer')"
      ]
     },
     "execution_count": 24,
     "metadata": {},
     "output_type": "execute_result"
    }
   ],
   "source": [
    "openai.fine_tuning.jobs.create(\n",
    "    training_file=train_file.id,\n",
    "    validation_file=validation_file.id,\n",
    "    model=\"gpt-4o-mini-2024-07-18\",\n",
    "    seed=42,\n",
    "    hyperparameters={\"n_epochs\": 1},\n",
    "    integrations = [wandb_integration],\n",
    "    suffix=\"pricer\"\n",
    ")"
   ]
  },
  {
   "cell_type": "code",
   "execution_count": 25,
   "id": "aeb9de2e-542c-4e83-81c7-b6745133e48b",
   "metadata": {},
   "outputs": [
    {
     "data": {
      "text/plain": [
       "SyncCursorPage[FineTuningJob](data=[FineTuningJob(id='ftjob-e10RDwgHL7AkC8iEO9bcAM2c', created_at=1735512572, error=Error(code=None, message=None, param=None), fine_tuned_model=None, finished_at=None, hyperparameters=Hyperparameters(batch_size='auto', learning_rate_multiplier='auto', n_epochs=1), model='gpt-4o-mini-2024-07-18', object='fine_tuning.job', organization_id='org-m7K1ZpWIMZKmaGUWQXj977ng', result_files=[], seed=42, status='validating_files', trained_tokens=None, training_file='file-BKKgG7ZA3i75q1vVettcKA', validation_file='file-HCCKXRRcjPBF35tFg46SGD', estimated_finish=None, integrations=[FineTuningJobWandbIntegrationObject(type='wandb', wandb=FineTuningJobWandbIntegration(project='gpt-pricer', entity=None, name=None, tags=None, run_id='ftjob-e10RDwgHL7AkC8iEO9bcAM2c'))], method=Method(dpo=None, supervised=MethodSupervised(hyperparameters=MethodSupervisedHyperparameters(batch_size='auto', learning_rate_multiplier='auto', n_epochs=1)), type='supervised'), user_provided_suffix='pricer')], object='list', has_more=False)"
      ]
     },
     "execution_count": 25,
     "metadata": {},
     "output_type": "execute_result"
    }
   ],
   "source": [
    "openai.fine_tuning.jobs.list(limit=1)"
   ]
  },
  {
   "cell_type": "code",
   "execution_count": 26,
   "id": "40d24873-8ff5-413f-b0d4-8f77c28f18e1",
   "metadata": {},
   "outputs": [],
   "source": [
    "job_id = openai.fine_tuning.jobs.list(limit=1).data[0].id"
   ]
  },
  {
   "cell_type": "code",
   "execution_count": 27,
   "id": "a32aef35-4b38-436c-ad00-d082f758efa7",
   "metadata": {},
   "outputs": [
    {
     "data": {
      "text/plain": [
       "'ftjob-e10RDwgHL7AkC8iEO9bcAM2c'"
      ]
     },
     "execution_count": 27,
     "metadata": {},
     "output_type": "execute_result"
    }
   ],
   "source": [
    "job_id"
   ]
  },
  {
   "cell_type": "code",
   "execution_count": 28,
   "id": "a7e01247-c133-48e1-93d3-c79c399e6178",
   "metadata": {},
   "outputs": [
    {
     "data": {
      "text/plain": [
       "FineTuningJob(id='ftjob-e10RDwgHL7AkC8iEO9bcAM2c', created_at=1735512572, error=Error(code=None, message=None, param=None), fine_tuned_model=None, finished_at=None, hyperparameters=Hyperparameters(batch_size='auto', learning_rate_multiplier='auto', n_epochs=1), model='gpt-4o-mini-2024-07-18', object='fine_tuning.job', organization_id='org-m7K1ZpWIMZKmaGUWQXj977ng', result_files=[], seed=42, status='validating_files', trained_tokens=None, training_file='file-BKKgG7ZA3i75q1vVettcKA', validation_file='file-HCCKXRRcjPBF35tFg46SGD', estimated_finish=None, integrations=[FineTuningJobWandbIntegrationObject(type='wandb', wandb=FineTuningJobWandbIntegration(project='gpt-pricer', entity=None, name=None, tags=None, run_id='ftjob-e10RDwgHL7AkC8iEO9bcAM2c'))], method=Method(dpo=None, supervised=MethodSupervised(hyperparameters=MethodSupervisedHyperparameters(batch_size='auto', learning_rate_multiplier='auto', n_epochs=1)), type='supervised'), user_provided_suffix='pricer')"
      ]
     },
     "execution_count": 28,
     "metadata": {},
     "output_type": "execute_result"
    }
   ],
   "source": [
    "openai.fine_tuning.jobs.retrieve(job_id)"
   ]
  },
  {
   "cell_type": "code",
   "execution_count": 39,
   "id": "0f5150e1-b8de-485f-8eba-cf1e5b00c117",
   "metadata": {},
   "outputs": [
    {
     "data": {
      "text/plain": [
       "[FineTuningJobEvent(id='ftevent-5rFkAROtV8C8eP3Fn0JwwvQb', created_at=1735513172, level='info', message='New fine-tuned model created', object='fine_tuning.job.event', data={}, type='message'),\n",
       " FineTuningJobEvent(id='ftevent-vq6g0x1AgiiqjvNf9sgghD8O', created_at=1735513107, level='info', message='Step 200/200: training loss=1.33, validation loss=1.55, full validation loss=0.87', object='fine_tuning.job.event', data={'step': 200, 'train_loss': 1.3336222171783447, 'valid_loss': 1.5492479801177979, 'total_steps': 200, 'full_valid_loss': 0.874340443611145, 'train_mean_token_accuracy': 0.75, 'valid_mean_token_accuracy': 0.75, 'full_valid_mean_token_accuracy': 0.805}, type='metrics'),\n",
       " FineTuningJobEvent(id='ftevent-KzzAXfsgnItmxkrayPMYxqHb', created_at=1735513100, level='info', message='Step 199/200: training loss=0.60', object='fine_tuning.job.event', data={'step': 199, 'train_loss': 0.5983221530914307, 'total_steps': 200, 'train_mean_token_accuracy': 0.875}, type='metrics'),\n",
       " FineTuningJobEvent(id='ftevent-RpDfRYT1DO2J9Gkgi2jCGtFI', created_at=1735513097, level='info', message='Step 198/200: training loss=1.19', object='fine_tuning.job.event', data={'step': 198, 'train_loss': 1.1939406394958496, 'total_steps': 200, 'train_mean_token_accuracy': 0.75}, type='metrics'),\n",
       " FineTuningJobEvent(id='ftevent-y4gbfGWv9uG20kV2jK6tPPkA', created_at=1735513097, level='info', message='Step 197/200: training loss=0.49', object='fine_tuning.job.event', data={'step': 197, 'train_loss': 0.49266719818115234, 'total_steps': 200, 'train_mean_token_accuracy': 0.875}, type='metrics'),\n",
       " FineTuningJobEvent(id='ftevent-kLy6ukYQQaKFL7ABBRolUsqm', created_at=1735513097, level='info', message='Step 196/200: training loss=1.05', object='fine_tuning.job.event', data={'step': 196, 'train_loss': 1.045395851135254, 'total_steps': 200, 'train_mean_token_accuracy': 0.75}, type='metrics'),\n",
       " FineTuningJobEvent(id='ftevent-QN8HqlmGTrzFJenQTI9s94BD', created_at=1735513097, level='info', message='Step 195/200: training loss=0.78', object='fine_tuning.job.event', data={'step': 195, 'train_loss': 0.7760982513427734, 'total_steps': 200, 'train_mean_token_accuracy': 0.875}, type='metrics'),\n",
       " FineTuningJobEvent(id='ftevent-5ZT6aco188f2PSMKbq1wyFe3', created_at=1735513097, level='info', message='Step 194/200: training loss=0.84', object='fine_tuning.job.event', data={'step': 194, 'train_loss': 0.8418326377868652, 'total_steps': 200, 'train_mean_token_accuracy': 0.75}, type='metrics'),\n",
       " FineTuningJobEvent(id='ftevent-lUDZI2jL6w0GBWiZJ2WVpuIG', created_at=1735513097, level='info', message='Step 193/200: training loss=0.56', object='fine_tuning.job.event', data={'step': 193, 'train_loss': 0.561506986618042, 'total_steps': 200, 'train_mean_token_accuracy': 0.875}, type='metrics'),\n",
       " FineTuningJobEvent(id='ftevent-mchFuLomJQZzZ65UebCxKPw8', created_at=1735513093, level='info', message='Step 192/200: training loss=0.66', object='fine_tuning.job.event', data={'step': 192, 'train_loss': 0.6607351303100586, 'total_steps': 200, 'train_mean_token_accuracy': 0.875}, type='metrics')]"
      ]
     },
     "execution_count": 39,
     "metadata": {},
     "output_type": "execute_result"
    }
   ],
   "source": [
    "openai.fine_tuning.jobs.list_events(fine_tuning_job_id=job_id, limit=10).data"
   ]
  },
  {
   "cell_type": "markdown",
   "id": "066fef03-8338-4526-9df3-89b649ad4f0a",
   "metadata": {},
   "source": [
    "# Step 3\n",
    "\n",
    "Test our fine tuned model"
   ]
  },
  {
   "cell_type": "code",
   "execution_count": 40,
   "id": "fa4488cb-3c17-4eda-abd1-53c1c68a491b",
   "metadata": {},
   "outputs": [],
   "source": [
    "fine_tuned_model_name = openai.fine_tuning.jobs.retrieve(job_id).fine_tuned_model"
   ]
  },
  {
   "cell_type": "code",
   "execution_count": 41,
   "id": "e9370937-5a6f-4724-8265-b208663b4450",
   "metadata": {},
   "outputs": [
    {
     "data": {
      "text/plain": [
       "'ft:gpt-4o-mini-2024-07-18:personal-openai-organization:pricer:AjwXrHNr'"
      ]
     },
     "execution_count": 41,
     "metadata": {},
     "output_type": "execute_result"
    }
   ],
   "source": [
    "fine_tuned_model_name"
   ]
  },
  {
   "cell_type": "code",
   "execution_count": 42,
   "id": "66ea68e8-ab1b-4f0d-aba4-a59574d8f85e",
   "metadata": {},
   "outputs": [],
   "source": [
    "# The prompt\n",
    "\n",
    "def messages_for(item):\n",
    "    system_message = \"You estimate prices of items. Reply only with the price, no explanation\"\n",
    "    user_prompt = item.test_prompt().replace(\" to the nearest dollar\",\"\").replace(\"\\n\\nPrice is $\",\"\")\n",
    "    return [\n",
    "        {\"role\": \"system\", \"content\": system_message},\n",
    "        {\"role\": \"user\", \"content\": user_prompt},\n",
    "        {\"role\": \"assistant\", \"content\": \"Price is $\"}\n",
    "    ]"
   ]
  },
  {
   "cell_type": "code",
   "execution_count": 43,
   "id": "4ff92d61-0d27-4b0d-8b32-c9891016509b",
   "metadata": {},
   "outputs": [
    {
     "data": {
      "text/plain": [
       "[{'role': 'system',\n",
       "  'content': 'You estimate prices of items. Reply only with the price, no explanation'},\n",
       " {'role': 'user',\n",
       "  'content': \"How much does this cost?\\n\\nHabisder 2022 Laptops 14.1'' Laptop Computer, 8GB RAM 128GB SSD, Windows 10 Laptop, Celeron J3455 Processor, IPS Display, Ultra Slim Notebook PC, WiFi,\\nColor Silver SSD Material plastic paint Screen type 14.1 inch IPS screen Screen resolution 1366 * 768 IPS CPU quad-core Graphics card HD set display CPU frequency quad-core 1.5GHz up to 2.3Ghz Operating system for Windows 10 64-bit Memory LPDDR3 8GB Hard disk 128GB SSD Can be expanded to 1TB SSD Built in wireless LAN Wireless standard / b / g / n / ac) Built-in sound chip Built in speaker Built in microphone Graphics card integrated graphics Input device touchpad\"},\n",
       " {'role': 'assistant', 'content': 'Price is $'}]"
      ]
     },
     "execution_count": 43,
     "metadata": {},
     "output_type": "execute_result"
    }
   ],
   "source": [
    "# Try this out\n",
    "\n",
    "messages_for(test[0])"
   ]
  },
  {
   "cell_type": "code",
   "execution_count": 44,
   "id": "b1af1888-f94a-4106-b0d8-8a70939eec4e",
   "metadata": {},
   "outputs": [],
   "source": [
    "# A utility function to extract the price from a string\n",
    "\n",
    "def get_price(s):\n",
    "    s = s.replace('$','').replace(',','')\n",
    "    match = re.search(r\"[-+]?\\d*\\.\\d+|\\d+\", s)\n",
    "    return float(match.group()) if match else 0"
   ]
  },
  {
   "cell_type": "code",
   "execution_count": 45,
   "id": "f138c5b7-bcc1-4085-aced-68dad1bf36b4",
   "metadata": {},
   "outputs": [
    {
     "data": {
      "text/plain": [
       "99.99"
      ]
     },
     "execution_count": 45,
     "metadata": {},
     "output_type": "execute_result"
    }
   ],
   "source": [
    "get_price(\"The price is roughly $99.99 because blah blah\")"
   ]
  },
  {
   "cell_type": "code",
   "execution_count": 46,
   "id": "501a2a7a-69c8-451b-bbc0-398bcb9e1612",
   "metadata": {},
   "outputs": [],
   "source": [
    "# The function for gpt-4o-mini\n",
    "\n",
    "def gpt_fine_tuned(item):\n",
    "    response = openai.chat.completions.create(\n",
    "        model=fine_tuned_model_name, \n",
    "        messages=messages_for(item),\n",
    "        seed=42,\n",
    "        max_tokens=7\n",
    "    )\n",
    "    reply = response.choices[0].message.content\n",
    "    return get_price(reply)"
   ]
  },
  {
   "cell_type": "code",
   "execution_count": 47,
   "id": "843d88b4-364a-431b-b48b-8a7c1f68b786",
   "metadata": {},
   "outputs": [
    {
     "name": "stdout",
     "output_type": "stream",
     "text": [
      "138.0\n",
      "393.69\n"
     ]
    }
   ],
   "source": [
    "print(test[0].price)\n",
    "print(gpt_fine_tuned(test[0]))"
   ]
  },
  {
   "cell_type": "code",
   "execution_count": 48,
   "id": "edd7ada0-15b7-42ec-bbbb-1250e0eb9af1",
   "metadata": {},
   "outputs": [
    {
     "name": "stdout",
     "output_type": "stream",
     "text": [
      "How much does this cost to the nearest dollar?\n",
      "\n",
      "Habisder 2022 Laptops 14.1'' Laptop Computer, 8GB RAM 128GB SSD, Windows 10 Laptop, Celeron J3455 Processor, IPS Display, Ultra Slim Notebook PC, WiFi,\n",
      "Color Silver SSD Material plastic paint Screen type 14.1 inch IPS screen Screen resolution 1366 * 768 IPS CPU quad-core Graphics card HD set display CPU frequency quad-core 1.5GHz up to 2.3Ghz Operating system for Windows 10 64-bit Memory LPDDR3 8GB Hard disk 128GB SSD Can be expanded to 1TB SSD Built in wireless LAN Wireless standard / b / g / n / ac) Built-in sound chip Built in speaker Built in microphone Graphics card integrated graphics Input device touchpad\n",
      "\n",
      "Price is $\n"
     ]
    }
   ],
   "source": [
    "print(test[0].test_prompt())"
   ]
  },
  {
   "cell_type": "code",
   "execution_count": 49,
   "id": "36bdd2c9-1859-4f99-a09f-3ec83b845b30",
   "metadata": {},
   "outputs": [
    {
     "name": "stdout",
     "output_type": "stream",
     "text": [
      "\u001b[91m1: Guess: $393.69 Truth: $138.00 Error: $255.69 SLE: 1.09 Item: Habisder 2022 Laptops 14.1'' Laptop Comp...\u001b[0m\n",
      "\u001b[91m2: Guess: $127.99 Truth: $399.99 Error: $272.00 SLE: 1.29 Item: 10\" 1080P Backup Camera Monitor & Built-...\u001b[0m\n",
      "\u001b[92m3: Guess: $127.99 Truth: $149.99 Error: $22.00 SLE: 0.02 Item: Avolusion PRO-5X Series 12TB USB 3.0 Ext...\u001b[0m\n",
      "\u001b[93m4: Guess: $22.22 Truth: $73.05 Error: $50.83 SLE: 1.34 Item: LG EBF61215202 Genuine OEM Lid Switch As...\u001b[0m\n",
      "\u001b[93m5: Guess: $1.65 Truth: $68.97 Error: $67.32 SLE: 10.72 Item: LG EBF62174902 LG-EBF62174902 Switch,Rot...\u001b[0m\n",
      "\u001b[92m6: Guess: $899.00 Truth: $839.00 Error: $60.00 SLE: 0.00 Item: CyberpowerPC Gamer Master Gaming PC, AMD...\u001b[0m\n",
      "\u001b[92m7: Guess: $47.99 Truth: $80.99 Error: $33.00 SLE: 0.27 Item: Herdio 5.25 Inch Wall Mount Passive Spea...\u001b[0m\n",
      "\u001b[92m8: Guess: $8.99 Truth: $18.98 Error: $9.99 SLE: 0.48 Item: FitTurn Compatible with SKG V7 V7 Pro Ba...\u001b[0m\n",
      "\u001b[92m9: Guess: $22.99 Truth: $23.99 Error: $1.00 SLE: 0.00 Item: TRUMiRR Watch Band for Fenix 7 Sapphire ...\u001b[0m\n",
      "\u001b[93m10: Guess: $22.99 Truth: $78.99 Error: $56.00 SLE: 1.45 Item: KZ ZAS 16-Unit Hybrid High-Frequency 7BA...\u001b[0m\n",
      "\u001b[91m11: Guess: $249.00 Truth: $69.00 Error: $180.00 SLE: 1.62 Item: R2 Pro MarkII 2.4GHz Transmitter for Son...\u001b[0m\n",
      "\u001b[92m12: Guess: $221.65 Truth: $259.99 Error: $38.34 SLE: 0.03 Item: Wilife PC Based 2 Camera Master Video Se...\u001b[0m\n",
      "\u001b[92m13: Guess: $43.66 Truth: $40.87 Error: $2.79 SLE: 0.00 Item: WB30M1 and WB30M2 Surface Element Kit by...\u001b[0m\n",
      "\u001b[91m14: Guess: $47.22 Truth: $399.95 Error: $352.73 SLE: 4.49 Item: Jetway JBC375F532W-2930-B Intel Celeron ...\u001b[0m\n",
      "\u001b[93m15: Guess: $65.69 Truth: $139.99 Error: $74.30 SLE: 0.56 Item: ACASIS 40Gbps M.2 NVMe SSD Enclosure, Up...\u001b[0m\n",
      "\u001b[92m16: Guess: $32.99 Truth: $17.99 Error: $15.00 SLE: 0.34 Item: iPhone 11 Pro Duck Heartbeat for Duck Lo...\u001b[0m\n",
      "\u001b[91m17: Guess: $47.99 Truth: $135.99 Error: $88.00 SLE: 1.06 Item: VPL-VW60 Sony Projector Lamp Replacement...\u001b[0m\n",
      "\u001b[92m18: Guess: $10.65 Truth: $18.95 Error: $8.30 SLE: 0.29 Item: Blendin 2 Pack Charcoal Water Filter, Fi...\u001b[0m\n",
      "\u001b[92m19: Guess: $22.99 Truth: $59.99 Error: $37.00 SLE: 0.87 Item: Lap Tray Laptop Table Bed Stand Raiser D...\u001b[0m\n",
      "\u001b[91m20: Guess: $100.69 Truth: $219.99 Error: $119.30 SLE: 0.60 Item: MSI PRO Z790-P WiFi ProSeries Motherboar...\u001b[0m\n",
      "\u001b[92m21: Guess: $118.99 Truth: $99.00 Error: $19.99 SLE: 0.03 Item: 3 Axis Gimbal Stabilizer for Gopro Hero ...\u001b[0m\n",
      "\u001b[91m22: Guess: $47.99 Truth: $197.00 Error: $149.01 SLE: 1.95 Item: PNY 240GB CS1111 Internal 2.5 inch SATA ...\u001b[0m\n",
      "\u001b[93m23: Guess: $139.98 Truth: $195.00 Error: $55.02 SLE: 0.11 Item: Apple Watch SE (GPS, 44mm) - Gold Alumin...\u001b[0m\n",
      "\u001b[92m24: Guess: $22.69 Truth: $41.99 Error: $19.30 SLE: 0.36 Item: Turtleback Belt Clip Case Made for Samsu...\u001b[0m\n",
      "\u001b[93m25: Guess: $139.98 Truth: $85.79 Error: $54.19 SLE: 0.24 Item: LG Electronics BP530 3D Blu-ray Disc Pla...\u001b[0m\n",
      "\u001b[93m26: Guess: $49.99 Truth: $109.99 Error: $60.00 SLE: 0.60 Item: Mounting Dream UL Listed TV Wall Mount B...\u001b[0m\n",
      "\u001b[92m27: Guess: $109.00 Truth: $147.76 Error: $38.76 SLE: 0.09 Item: Seagate 2TB 7200RPM HDD\u001b[0m\n",
      "\u001b[92m28: Guess: $128.66 Truth: $120.15 Error: $8.51 SLE: 0.00 Item: SAMSUNG 27” Wide Laundry Riser Pedestal ...\u001b[0m\n",
      "\u001b[92m29: Guess: $139.95 Truth: $145.00 Error: $5.05 SLE: 0.00 Item: CHA EMCOMM II\u001b[0m\n",
      "\u001b[92m30: Guess: $66.47 Truth: $99.99 Error: $33.52 SLE: 0.16 Item: Huawei Ascend Mate 7 Factory Unlocked Ce...\u001b[0m\n",
      "\u001b[92m31: Guess: $31.99 Truth: $27.92 Error: $4.07 SLE: 0.02 Item: SAMSUNG Wireless Charger Fast Charge Pad...\u001b[0m\n",
      "\u001b[92m32: Guess: $47.99 Truth: $62.99 Error: $15.00 SLE: 0.07 Item: Podofo Single Din Car Stereo with Blueto...\u001b[0m\n",
      "\u001b[92m33: Guess: $74.99 Truth: $82.97 Error: $7.98 SLE: 0.01 Item: Whirlpool W10537869 Dishwasher Diverter ...\u001b[0m\n",
      "\u001b[93m34: Guess: $599.00 Truth: $779.00 Error: $180.00 SLE: 0.07 Item: Dell 2021 Newest Inspiron 5000 2-in-1 Pr...\u001b[0m\n",
      "\u001b[92m35: Guess: $47.22 Truth: $11.88 Error: $35.34 SLE: 1.74 Item: GE Part Number WB24X10129 FAN SWITCH\u001b[0m\n",
      "\u001b[93m36: Guess: $47.99 Truth: $95.00 Error: $47.01 SLE: 0.45 Item: Pacroban 8k Hdmi 2.1 Fiber Optic Cable 2...\u001b[0m\n",
      "\u001b[92m37: Guess: $49.99 Truth: $66.99 Error: $17.00 SLE: 0.08 Item: JUMO CYLY Anti-Theft Hard Shell Laptop B...\u001b[0m\n",
      "\u001b[92m38: Guess: $22.99 Truth: $43.07 Error: $20.08 SLE: 0.37 Item: ASODI L17M3PG1 Laptop Battery Compatible...\u001b[0m\n",
      "\u001b[91m39: Guess: $127.22 Truth: $688.19 Error: $560.97 SLE: 2.83 Item: Arlo Ultra 2 Spotlight Camera- 2 Camera ...\u001b[0m\n",
      "\u001b[92m40: Guess: $11.98 Truth: $8.99 Error: $2.99 SLE: 0.07 Item: Samsung Galaxy A11 Case, CaseExpert® Gen...\u001b[0m\n",
      "\u001b[92m41: Guess: $65.65 Truth: $57.01 Error: $8.64 SLE: 0.02 Item: BRIGHTFOCAL New Screen Replacement for H...\u001b[0m\n",
      "\u001b[93m42: Guess: $219.00 Truth: $169.99 Error: $49.01 SLE: 0.06 Item: SMALLRIG VND Filter Kit, Featuring 8 Sto...\u001b[0m\n",
      "\u001b[92m43: Guess: $219.98 Truth: $252.98 Error: $33.00 SLE: 0.02 Item: Dell Precision T1700 MT i7-4790 Quad Cor...\u001b[0m\n",
      "\u001b[92m44: Guess: $99.00 Truth: $119.00 Error: $20.00 SLE: 0.03 Item: Wireless Bluetooth Shooting Grip and Tri...\u001b[0m\n",
      "\u001b[92m45: Guess: $219.00 Truth: $214.00 Error: $5.00 SLE: 0.00 Item: HP Chromebook x360 Laptop Computer in Te...\u001b[0m\n",
      "\u001b[93m46: Guess: $34.65 Truth: $74.99 Error: $40.34 SLE: 0.57 Item: Waveshare 7.5inch E-Paper E-Ink Display ...\u001b[0m\n",
      "\u001b[91m47: Guess: $174.99 Truth: $76.99 Error: $98.00 SLE: 0.66 Item: A-Tech 32GB Kit (4x8GB) RAM for Apple Ma...\u001b[0m\n",
      "\u001b[92m48: Guess: $39.98 Truth: $9.99 Error: $29.99 SLE: 1.73 Item: Luvvitt JOT Master Stylus and Ink Pen Du...\u001b[0m\n",
      "\u001b[92m49: Guess: $69.99 Truth: $44.89 Error: $25.10 SLE: 0.19 Item: TRAM 1600-HC 35 - Inch VHF Marine Antenn...\u001b[0m\n",
      "\u001b[92m50: Guess: $8.99 Truth: $10.98 Error: $1.99 SLE: 0.03 Item: Zoeirc Galaxy A10S Case/Samsung A10S Pho...\u001b[0m\n",
      "\u001b[92m51: Guess: $22.99 Truth: $44.99 Error: $22.00 SLE: 0.42 Item: Suptig Remote WiFi Remote Compatible for...\u001b[0m\n",
      "\u001b[92m52: Guess: $49.99 Truth: $69.00 Error: $19.01 SLE: 0.10 Item: 18 Inch Vintage Handmade Leather Messeng...\u001b[0m\n",
      "\u001b[92m53: Guess: $4.99 Truth: $8.90 Error: $3.91 SLE: 0.25 Item: EDIMENS 2 Pack Hard PC Case Compatible w...\u001b[0m\n",
      "\u001b[91m54: Guess: $349.99 Truth: $159.99 Error: $190.00 SLE: 0.61 Item: WiseEye Mini Verizon - Verizon Cellular ...\u001b[0m\n",
      "\u001b[92m55: Guess: $22.99 Truth: $14.99 Error: $8.00 SLE: 0.16 Item: Stonewall Jackson on Horse Civil War Art...\u001b[0m\n",
      "\u001b[92m56: Guess: $65.99 Truth: $30.99 Error: $35.00 SLE: 0.55 Item: RhinoShield Modular Case Compatible with...\u001b[0m\n",
      "\u001b[91m57: Guess: $139.98 Truth: $40.99 Error: $98.99 SLE: 1.47 Item: TUNAI Firefly Chat LDAC Bluetooth Adapte...\u001b[0m\n",
      "\u001b[91m58: Guess: $219.00 Truth: $557.95 Error: $338.95 SLE: 0.87 Item: Dasaita HD 10.2\" Android Car Stereo for ...\u001b[0m\n",
      "\u001b[93m59: Guess: $109.00 Truth: $177.90 Error: $68.90 SLE: 0.24 Item: SAMSUNG Galaxy Note 8 N950U 64GB Unlocke...\u001b[0m\n",
      "\u001b[91m60: Guess: $47.99 Truth: $164.95 Error: $116.96 SLE: 1.49 Item: Ultimate Ears MEGABOOM 3 Wireless Blueto...\u001b[0m\n",
      "\u001b[92m61: Guess: $18.65 Truth: $38.99 Error: $20.34 SLE: 0.50 Item: [UPGRADE] DA97-06419C Refrigerator Door ...\u001b[0m\n",
      "\u001b[91m62: Guess: $109.00 Truth: $648.00 Error: $539.00 SLE: 3.15 Item: 2 Pack Motorola RMU2080D Radios with Spe...\u001b[0m\n",
      "\u001b[93m63: Guess: $22.99 Truth: $85.99 Error: $63.00 SLE: 1.66 Item: Uonecn LCD EVF Cable FHG.1b 16 pin Male ...\u001b[0m\n",
      "\u001b[91m64: Guess: $139.98 Truth: $259.99 Error: $120.01 SLE: 0.38 Item: PRORECK Party 12 12-Inch 1000 Watts 2-Wa...\u001b[0m\n",
      "\u001b[92m65: Guess: $109.00 Truth: $91.98 Error: $17.02 SLE: 0.03 Item: Axxess GMOS-LAN-10 Data Interface for Se...\u001b[0m\n",
      "\u001b[92m66: Guess: $5.99 Truth: $10.99 Error: $5.00 SLE: 0.29 Item: BTShare for Oneplus Nord N200 5G Case wi...\u001b[0m\n",
      "\u001b[92m67: Guess: $49.99 Truth: $29.99 Error: $20.00 SLE: 0.25 Item: X9 Performance Backlit Large Print Keybo...\u001b[0m\n",
      "\u001b[91m68: Guess: $219.99 Truth: $83.98 Error: $136.01 SLE: 0.91 Item: Monoprice Blackbird 4K 4x1 HDMI 1.4 Swit...\u001b[0m\n",
      "\u001b[93m69: Guess: $249.99 Truth: $339.89 Error: $89.90 SLE: 0.09 Item: XTRONS 8.8 Inch IPS Touch Display Car St...\u001b[0m\n",
      "\u001b[92m70: Guess: $18.99 Truth: $23.99 Error: $5.00 SLE: 0.05 Item: TwoHead for Samsung Galaxy S20 FE 5G Wal...\u001b[0m\n",
      "\u001b[93m71: Guess: $390.22 Truth: $538.00 Error: $147.78 SLE: 0.10 Item: Apple Watch Series 8 GPS + Cellular 45mm...\u001b[0m\n",
      "\u001b[91m72: Guess: $249.99 Truth: $798.00 Error: $548.01 SLE: 1.34 Item: Fujifilm XF10 Digital Camera - Black\u001b[0m\n",
      "\u001b[93m73: Guess: $127.22 Truth: $54.95 Error: $72.27 SLE: 0.69 Item: PNY GeForce GT 430 1024MB DDR3 PCI-Expre...\u001b[0m\n",
      "\u001b[92m74: Guess: $66.99 Truth: $88.99 Error: $22.00 SLE: 0.08 Item: 𝐒𝐥𝐢𝐦𝐐 Gan Charger for Laptop: 150W,135W,...\u001b[0m\n",
      "\u001b[92m75: Guess: $11.98 Truth: $15.99 Error: $4.01 SLE: 0.07 Item: Lanenas Samsung Galaxy S9 Case, S9 Water...\u001b[0m\n",
      "\u001b[93m76: Guess: $143.65 Truth: $94.99 Error: $48.66 SLE: 0.17 Item: JVC HR-XVC33U Progressive-Scan DVD/VCR C...\u001b[0m\n",
      "\u001b[92m77: Guess: $8.22 Truth: $5.00 Error: $3.22 SLE: 0.18 Item: 510181 Dryer Door Metal Strike D510181 G...\u001b[0m\n",
      "\u001b[92m78: Guess: $65.98 Truth: $56.99 Error: $8.99 SLE: 0.02 Item: UGREEN USB C Charger 65W 4 Ports USB C P...\u001b[0m\n",
      "\u001b[92m79: Guess: $83.77 Truth: $100.79 Error: $17.02 SLE: 0.03 Item: Delfield 2194759KT-S Danfoss Control Kit\u001b[0m\n",
      "\u001b[93m80: Guess: $47.22 Truth: $109.99 Error: $62.77 SLE: 0.69 Item: Garmin vivomove 3, Hybrid Smartwatch wit...\u001b[0m\n",
      "\u001b[91m81: Guess: $349.99 Truth: $595.00 Error: $245.01 SLE: 0.28 Item: Xiaomi 11T PRO 5G + 4G Volte (256GB, 12G...\u001b[0m\n",
      "\u001b[92m82: Guess: $11.98 Truth: $10.99 Error: $0.99 SLE: 0.01 Item: AUPAI for Galaxy A31 4G Case with Glass ...\u001b[0m\n",
      "\u001b[91m83: Guess: $47.99 Truth: $170.50 Error: $122.51 SLE: 1.57 Item: fast Cat. Audio Cable/Speaker Wire - PVC...\u001b[0m\n",
      "\u001b[91m84: Guess: $262.47 Truth: $113.99 Error: $148.48 SLE: 0.69 Item: TTArtisan 40mm F2.8 Macro APS-C Fuji-X M...\u001b[0m\n",
      "\u001b[92m85: Guess: $11.98 Truth: $5.99 Error: $5.99 SLE: 0.38 Item: JUST4YOU Soft Jelly for Samsung Galaxy S...\u001b[0m\n",
      "\u001b[93m86: Guess: $219.00 Truth: $279.00 Error: $60.00 SLE: 0.06 Item: Bose TV Speaker - Soundbar for TV with B...\u001b[0m\n",
      "\u001b[93m87: Guess: $143.65 Truth: $199.99 Error: $56.34 SLE: 0.11 Item: Jensen CAR710X 7\" Digital Multimedia Rec...\u001b[0m\n",
      "\u001b[92m88: Guess: $239.00 Truth: $199.99 Error: $39.01 SLE: 0.03 Item: HP 2-in-1 12.3\" Touch-Screen Chromebook ...\u001b[0m\n",
      "\u001b[91m89: Guess: $393.69 Truth: $257.27 Error: $136.42 SLE: 0.18 Item: Dell Gaming PC 3020 SFF High Performance...\u001b[0m\n",
      "\u001b[91m90: Guess: $47.99 Truth: $229.68 Error: $181.69 SLE: 2.40 Item: MOGINSOK Firewall Appliance Mini PC, Int...\u001b[0m\n",
      "\u001b[92m91: Guess: $8.99 Truth: $15.99 Error: $7.00 SLE: 0.28 Item: JOLOJO 3+3 [Super Hardness] Compatible f...\u001b[0m\n",
      "\u001b[92m92: Guess: $66.47 Truth: $96.80 Error: $30.33 SLE: 0.14 Item: IN-WIN Development Inc Development EM048...\u001b[0m\n",
      "\u001b[91m93: Guess: $127.22 Truth: $226.31 Error: $99.09 SLE: 0.33 Item: Lenovo ThinkCentre Business Computer, In...\u001b[0m\n",
      "\u001b[92m94: Guess: $13.66 Truth: $19.99 Error: $6.33 SLE: 0.13 Item: Flunyina 2pcs 34 Eggs Holder (Total 68pc...\u001b[0m\n",
      "\u001b[92m95: Guess: $726.65 Truth: $897.00 Error: $170.35 SLE: 0.04 Item: Nikon D7200 24.2 MP DX-Format Digital SL...\u001b[0m\n",
      "\u001b[92m96: Guess: $22.99 Truth: $42.38 Error: $19.39 SLE: 0.35 Item: OtterBox AMPLIFY GLASS SERIES Screen Pro...\u001b[0m\n",
      "\u001b[91m97: Guess: $349.95 Truth: $129.99 Error: $219.96 SLE: 0.97 Item: Precision Power A1800.1D Atom Series Mon...\u001b[0m\n",
      "\u001b[93m98: Guess: $393.69 Truth: $302.59 Error: $91.10 SLE: 0.07 Item: LG 32GN650-B Ultragear Gaming Monitor 32...\u001b[0m\n",
      "\u001b[93m99: Guess: $109.00 Truth: $53.87 Error: $55.13 SLE: 0.48 Item: HTC 8X, Black 16GB (Verizon Wireless)\u001b[0m\n",
      "\u001b[93m100: Guess: $164.50 Truth: $92.99 Error: $71.51 SLE: 0.32 Item: MSI GT 1030 2GD4 LP OC Computer Graphics...\u001b[0m\n",
      "\u001b[92m101: Guess: $393.69 Truth: $458.99 Error: $65.30 SLE: 0.02 Item: Sony 35mm F2.8 Sonnar T FE ZA Full Frame...\u001b[0m\n",
      "\u001b[92m102: Guess: $0.65 Truth: $0.99 Error: $0.34 SLE: 0.04 Item: Spectre Shield Screen Protector for LG X...\u001b[0m\n",
      "\u001b[91m103: Guess: $219.98 Truth: $139.89 Error: $80.09 SLE: 0.20 Item: Lenovo ThinkPad T470 14-inch Laptop - 14...\u001b[0m\n",
      "\u001b[92m104: Guess: $79.99 Truth: $69.00 Error: $10.99 SLE: 0.02 Item: ZGCINE PS-G10 Combo Charging Case with 3...\u001b[0m\n",
      "\u001b[92m105: Guess: $11.99 Truth: $33.32 Error: $21.33 SLE: 0.94 Item: Frigidaire 216731001 Thermostat for Refr...\u001b[0m\n",
      "\u001b[92m106: Guess: $69.99 Truth: $54.99 Error: $15.00 SLE: 0.06 Item: POUT H3 SplitMax - 3-in-1 Wireless Charg...\u001b[0m\n",
      "\u001b[91m107: Guess: $109.00 Truth: $319.99 Error: $210.99 SLE: 1.15 Item: Carson 3D Series 8x32mm High Definition ...\u001b[0m\n",
      "\u001b[91m108: Guess: $127.99 Truth: $214.19 Error: $86.20 SLE: 0.26 Item: Fiodio 30in Curved Gaming Monitor 100Hz,...\u001b[0m\n",
      "\u001b[91m109: Guess: $219.98 Truth: $559.00 Error: $339.02 SLE: 0.86 Item: Blue Ocean 30\" RH668I Tempered Glass Sta...\u001b[0m\n",
      "\u001b[92m110: Guess: $8.99 Truth: $4.99 Error: $4.00 SLE: 0.26 Item: 【3 Pack】 Case for Apple Watch Ultra 49mm...\u001b[0m\n",
      "\u001b[91m111: Guess: $139.98 Truth: $247.28 Error: $107.30 SLE: 0.32 Item: LG 24BP750C-B 24\" Monitor, 1920X1080, IP...\u001b[0m\n",
      "\u001b[93m112: Guess: $277.65 Truth: $390.40 Error: $112.75 SLE: 0.12 Item: Nikon 85mm f/1.8G AF-S FX Nikkor Lens - ...\u001b[0m\n",
      "\u001b[93m113: Guess: $139.98 Truth: $199.00 Error: $59.02 SLE: 0.12 Item: Carbon Fiber Tripod-INNOREL GT284C Profe...\u001b[0m\n",
      "\u001b[92m114: Guess: $14.98 Truth: $24.98 Error: $10.00 SLE: 0.24 Item: CaseBorne V Designed for Samsung Galaxy ...\u001b[0m\n",
      "\u001b[92m115: Guess: $16.99 Truth: $14.99 Error: $2.00 SLE: 0.01 Item: Line Art Aesthetic Face Minimalist Abstr...\u001b[0m\n",
      "\u001b[91m116: Guess: $47.22 Truth: $159.08 Error: $111.86 SLE: 1.44 Item: Johnson Pump 10-13252-103-BW Baitwell Pu...\u001b[0m\n",
      "\u001b[91m117: Guess: $127.22 Truth: $499.00 Error: $371.78 SLE: 1.85 Item: Dell XPS 8900 Flagship High Performance ...\u001b[0m\n",
      "\u001b[91m118: Guess: $219.98 Truth: $599.99 Error: $380.01 SLE: 1.00 Item: TESmart USB 3.0 HDMI KVM Switch 3 Monito...\u001b[0m\n",
      "\u001b[91m119: Guess: $47.22 Truth: $130.68 Error: $83.46 SLE: 1.01 Item: Piel Leather Laptop Shoulder Bag, Black,...\u001b[0m\n",
      "\u001b[92m120: Guess: $66.47 Truth: $53.99 Error: $12.48 SLE: 0.04 Item: tengertang External Blu-Ray DVD CD Drive...\u001b[0m\n",
      "\u001b[92m121: Guess: $11.98 Truth: $11.99 Error: $0.01 SLE: 0.00 Item: CBUS USB C Cable, 6ft USB A to USB C Bra...\u001b[0m\n",
      "\u001b[92m122: Guess: $65.69 Truth: $27.99 Error: $37.70 SLE: 0.69 Item: iPad Stylus Pen for Apple Pencil 8th/9th...\u001b[0m\n",
      "\u001b[92m123: Guess: $34.65 Truth: $70.99 Error: $36.34 SLE: 0.49 Item: 19V AC Power Adapter Works with NORCENT ...\u001b[0m\n",
      "\u001b[92m124: Guess: $47.22 Truth: $54.45 Error: $7.23 SLE: 0.02 Item: Compatible with Honda Accord 2008 2009 2...\u001b[0m\n",
      "\u001b[91m125: Guess: $239.00 Truth: $949.00 Error: $710.00 SLE: 1.89 Item: Fujifilm 35mm f/1.4 XF R Lens with 32GB ...\u001b[0m\n",
      "\u001b[92m126: Guess: $0.47 Truth: $25.28 Error: $24.81 SLE: 8.31 Item: MightySkins Carbon Fiber Skin for Acer C...\u001b[0m\n",
      "\u001b[92m127: Guess: $139.98 Truth: $135.00 Error: $4.98 SLE: 0.00 Item: Dell Latitude E6420 14” Laptop PC, Intel...\u001b[0m\n",
      "\u001b[91m128: Guess: $359.00 Truth: $229.99 Error: $129.01 SLE: 0.20 Item: Seagate IronWolf Pro ST16000NE000 16 TB ...\u001b[0m\n",
      "\u001b[91m129: Guess: $47.22 Truth: $429.95 Error: $382.73 SLE: 4.80 Item: American Sound Connection Bundle Compati...\u001b[0m\n",
      "\u001b[91m130: Guess: $149.99 Truth: $267.33 Error: $117.34 SLE: 0.33 Item: Apple iPhone XR, 128GB, White - For Veri...\u001b[0m\n",
      "\u001b[92m131: Guess: $49.99 Truth: $33.99 Error: $16.00 SLE: 0.14 Item: 500GB 2.5\" Hard Drive for Acer Aspire As...\u001b[0m\n",
      "\u001b[92m132: Guess: $66.47 Truth: $47.80 Error: $18.67 SLE: 0.10 Item: BRIGHTFOCAL New Screen Replacement for A...\u001b[0m\n",
      "\u001b[92m133: Guess: $18.99 Truth: $57.99 Error: $39.00 SLE: 1.17 Item: 2022 WiFi Extender Signal Booster - for ...\u001b[0m\n",
      "\u001b[92m134: Guess: $22.99 Truth: $4.99 Error: $18.00 SLE: 1.93 Item: SobLn Designed for Square iPhone 14 Pro ...\u001b[0m\n",
      "\u001b[92m135: Guess: $34.98 Truth: $17.61 Error: $17.37 SLE: 0.43 Item: SAMSUNG Galaxy S22 S-View Flip Cover, Pr...\u001b[0m\n",
      "\u001b[92m136: Guess: $8.95 Truth: $1.95 Error: $7.00 SLE: 1.48 Item: RinoGear Screen Protector for HTC Window...\u001b[0m\n",
      "\u001b[93m137: Guess: $594.00 Truth: $460.70 Error: $133.30 SLE: 0.06 Item: Lenovo IdeaPad 3i Core i5-1135G7 8GB 256...\u001b[0m\n",
      "\u001b[92m138: Guess: $118.99 Truth: $149.99 Error: $31.00 SLE: 0.05 Item: Koah Weatherproof Wheeled Plastic Hard C...\u001b[0m\n",
      "\u001b[91m139: Guess: $66.47 Truth: $168.68 Error: $102.21 SLE: 0.85 Item: Biostar 945GC-M4 Intel 945GC Socket 478 ...\u001b[0m\n",
      "\u001b[92m140: Guess: $33.98 Truth: $30.99 Error: $2.99 SLE: 0.01 Item: ACEIRMC for Arduino Nano V3.0, Nano Boar...\u001b[0m\n",
      "\u001b[92m141: Guess: $159.00 Truth: $169.99 Error: $10.99 SLE: 0.00 Item: Sony HVL-F20M, HVL-F20M\u001b[0m\n",
      "\u001b[92m142: Guess: $49.99 Truth: $66.99 Error: $17.00 SLE: 0.08 Item: UMIDIGI Ablebuds Free Hybrid Active Nois...\u001b[0m\n",
      "\u001b[92m143: Guess: $31.95 Truth: $9.99 Error: $21.96 SLE: 1.21 Item: OtterBox STRADA SERIES Case for iPhone X...\u001b[0m\n",
      "\u001b[93m144: Guess: $79.95 Truth: $30.95 Error: $49.00 SLE: 0.86 Item: BoxWave Stylus Pen Compatible with Googl...\u001b[0m\n",
      "\u001b[92m145: Guess: $22.99 Truth: $32.99 Error: $10.00 SLE: 0.12 Item: SHIEID Samsung Flip 3 Case, Galaxy Flip ...\u001b[0m\n",
      "\u001b[92m146: Guess: $49.99 Truth: $84.99 Error: $35.00 SLE: 0.27 Item: UE WONDERBOOM Super Portable Waterproof ...\u001b[0m\n",
      "\u001b[92m147: Guess: $594.00 Truth: $699.90 Error: $105.90 SLE: 0.03 Item: MSI Gaming GeForce RTX 3070 8GB GDRR6 25...\u001b[0m\n",
      "\u001b[92m148: Guess: $39.98 Truth: $22.62 Error: $17.36 SLE: 0.30 Item: LEXiBOOK Unicorn 2-in-1 Bluetooth Headph...\u001b[0m\n",
      "\u001b[92m149: Guess: $49.99 Truth: $78.33 Error: $28.34 SLE: 0.20 Item: Computer Speakers, Bluedee 14W HiFi Ster...\u001b[0m\n",
      "\u001b[92m150: Guess: $0.01 Truth: $6.99 Error: $6.98 SLE: 4.28 Item: Mr.Shield [3-Pack] Designed For ZTE Blad...\u001b[0m\n",
      "\u001b[92m151: Guess: $69.99 Truth: $50.50 Error: $19.49 SLE: 0.10 Item: LensCoat Lens Cover for Nikon AF-S 55-30...\u001b[0m\n",
      "\u001b[93m152: Guess: $47.22 Truth: $103.20 Error: $55.98 SLE: 0.59 Item: Compatible with Frigidaire 240364787 Ref...\u001b[0m\n",
      "\u001b[92m153: Guess: $18.99 Truth: $18.98 Error: $0.01 SLE: 0.00 Item: All-New Fire HD 10 & Fire HD 10 Plus Tab...\u001b[0m\n",
      "\u001b[93m154: Guess: $174.00 Truth: $109.91 Error: $64.09 SLE: 0.21 Item: Canon EF 24-85mm f/3.5-4.5 USM Standard ...\u001b[0m\n",
      "\u001b[93m155: Guess: $5.99 Truth: $52.93 Error: $46.94 SLE: 4.17 Item: 1.5\" x 3' BLACK SPLIT LOOM TUBING Wire &...\u001b[0m\n",
      "\u001b[92m156: Guess: $65.98 Truth: $101.99 Error: $36.01 SLE: 0.19 Item: IFWTAER USB Camera Module 4K 2160P 1/2.5...\u001b[0m\n",
      "\u001b[91m157: Guess: $47.99 Truth: $199.00 Error: $151.01 SLE: 1.98 Item: Samsung Galaxy A12 (32GB, 3GB) 6.5\" HD+,...\u001b[0m\n",
      "\u001b[91m158: Guess: $14.65 Truth: $117.95 Error: $103.30 SLE: 4.11 Item: LG MDS63939301 Genuine OEM Door Gasket f...\u001b[0m\n",
      "\u001b[92m159: Guess: $23.47 Truth: $12.99 Error: $10.48 SLE: 0.31 Item: iCoverCase Phone Case for iPhone 12/12 P...\u001b[0m\n",
      "\u001b[91m160: Guess: $47.99 Truth: $128.99 Error: $81.00 SLE: 0.95 Item: SOCCERBEE LITE GPS Wearable Tracker and ...\u001b[0m\n",
      "\u001b[92m161: Guess: $8.99 Truth: $6.99 Error: $2.00 SLE: 0.05 Item: TenCloud Covers Compatible with Garmin F...\u001b[0m\n",
      "\u001b[92m162: Guess: $65.98 Truth: $90.00 Error: $24.02 SLE: 0.09 Item: FI8905W Network camera - outdoor - WiFi ...\u001b[0m\n",
      "\u001b[93m163: Guess: $109.00 Truth: $151.82 Error: $42.82 SLE: 0.11 Item: Sudio ETT True Wireless Earbuds - Active...\u001b[0m\n",
      "\u001b[92m164: Guess: $66.47 Truth: $49.99 Error: $16.48 SLE: 0.08 Item: Cerwin Vega CVBTR6 Bluetooth Receiver wi...\u001b[0m\n",
      "\u001b[92m165: Guess: $49.99 Truth: $20.99 Error: $29.00 SLE: 0.71 Item: 45W Samsung Super Fast Charger Type C, 2...\u001b[0m\n",
      "\u001b[93m166: Guess: $79.99 Truth: $144.99 Error: $65.00 SLE: 0.35 Item: Ocean Digital WR-800 FM Wi-Fi Internet R...\u001b[0m\n",
      "\u001b[92m167: Guess: $49.99 Truth: $32.99 Error: $17.00 SLE: 0.16 Item: LQM® 14.8V 4400mAh/65Wh New Laptop Batte...\u001b[0m\n",
      "\u001b[91m168: Guess: $110.47 Truth: $209.99 Error: $99.52 SLE: 0.41 Item: HUAWEI Watch GT 3 42 mm Smartwatch, Dura...\u001b[0m\n",
      "\u001b[92m169: Guess: $127.99 Truth: $149.99 Error: $22.00 SLE: 0.02 Item: [2G+32G] Car Radio for Porsche Cayenne 2...\u001b[0m\n",
      "\u001b[92m170: Guess: $65.69 Truth: $62.97 Error: $2.72 SLE: 0.00 Item: PowerSource 180W 150W 120W UL Listed Ext...\u001b[0m\n",
      "\u001b[92m171: Guess: $22.99 Truth: $35.95 Error: $12.96 SLE: 0.19 Item: XP Deus Charger 110 Volt with USB 3 Cabl...\u001b[0m\n",
      "\u001b[92m172: Guess: $47.99 Truth: $18.79 Error: $29.20 SLE: 0.82 Item: Wireless Car Charger Mount,Infrared Smar...\u001b[0m\n",
      "\u001b[92m173: Guess: $65.98 Truth: $65.94 Error: $0.04 SLE: 0.00 Item: Mini Currency Counter, Handheld Mini Por...\u001b[0m\n",
      "\u001b[92m174: Guess: $22.99 Truth: $27.99 Error: $5.00 SLE: 0.04 Item: WARYONG 13.3 Inch B(11.3\"x7\") Blue Light...\u001b[0m\n",
      "\u001b[92m175: Guess: $219.00 Truth: $214.95 Error: $4.05 SLE: 0.00 Item: Kicker Bundle Compatible with Universal ...\u001b[0m\n",
      "\u001b[92m176: Guess: $22.99 Truth: $23.90 Error: $0.91 SLE: 0.00 Item: Belkin Wireless Charger 5W - Boost Up Wi...\u001b[0m\n",
      "\u001b[93m177: Guess: $219.98 Truth: $279.00 Error: $59.02 SLE: 0.06 Item: YONGNUO YN200 Portable TTL Flash Speedli...\u001b[0m\n",
      "\u001b[92m178: Guess: $128.66 Truth: $99.89 Error: $28.77 SLE: 0.06 Item: Harmony Audio R65 R68 Speaker Upgrade Pa...\u001b[0m\n",
      "\u001b[93m179: Guess: $139.98 Truth: $179.99 Error: $40.01 SLE: 0.06 Item: Dsoon Time Lapse Camera Outdoor Construc...\u001b[0m\n",
      "\u001b[93m180: Guess: $390.99 Truth: $629.00 Error: $238.01 SLE: 0.23 Item: HP 15 15.6\" Business Laptop Computer_ In...\u001b[0m\n",
      "\u001b[92m181: Guess: $6.99 Truth: $12.99 Error: $6.00 SLE: 0.31 Item: ZXHSBROK Galaxy A03S Phone Case, Heavy D...\u001b[0m\n",
      "\u001b[92m182: Guess: $69.99 Truth: $55.98 Error: $14.01 SLE: 0.05 Item: NOKBABO iPad 9th Generation Case with Ke...\u001b[0m\n",
      "\u001b[92m183: Guess: $47.99 Truth: $31.06 Error: $16.93 SLE: 0.18 Item: Ciglow 5.25inch Card Reader, All-in-One ...\u001b[0m\n",
      "\u001b[91m184: Guess: $127.99 Truth: $409.00 Error: $281.01 SLE: 1.34 Item: Micro Center Intel Core i5-12600K 10 (6P...\u001b[0m\n",
      "\u001b[92m185: Guess: $83.99 Truth: $44.72 Error: $39.27 SLE: 0.38 Item: Tier1 CS-52 Refrigerator Water Filter 4-...\u001b[0m\n",
      "\u001b[92m186: Guess: $39.98 Truth: $36.99 Error: $2.99 SLE: 0.01 Item: Wireless Keyboard and Mouse Combo Silent...\u001b[0m\n",
      "\u001b[93m187: Guess: $179.99 Truth: $129.98 Error: $50.01 SLE: 0.10 Item: typecase Edge Magnetic Keyboard Compatib...\u001b[0m\n",
      "\u001b[93m188: Guess: $139.98 Truth: $229.98 Error: $90.00 SLE: 0.24 Item: Sceptre C325B-144R 32\" 144Hz 1800R Curve...\u001b[0m\n",
      "\u001b[93m189: Guess: $127.99 Truth: $199.99 Error: $72.00 SLE: 0.20 Item: Binize Single DIN 10.1 Inch Android 10 C...\u001b[0m\n",
      "\u001b[92m190: Guess: $69.99 Truth: $108.78 Error: $38.79 SLE: 0.19 Item: iKlips Duo+ Apple Lightning Flash Drive ...\u001b[0m\n",
      "\u001b[92m191: Guess: $47.22 Truth: $64.99 Error: $17.77 SLE: 0.10 Item: acr OLAS Wearable Mob Crew Tag - Single,...\u001b[0m\n",
      "\u001b[93m192: Guess: $99.00 Truth: $159.99 Error: $60.99 SLE: 0.23 Item: VidaMount White On-Wall Tablet Mount Com...\u001b[0m\n",
      "\u001b[92m193: Guess: $127.99 Truth: $149.00 Error: $21.01 SLE: 0.02 Item: Polaroid Originals Now I-Type Instant Ca...\u001b[0m\n",
      "\u001b[91m194: Guess: $127.22 Truth: $300.99 Error: $173.77 SLE: 0.73 Item: AmScope HL150-BY 150w Dual Gooseneck Fib...\u001b[0m\n",
      "\u001b[93m195: Guess: $47.22 Truth: $98.99 Error: $51.77 SLE: 0.53 Item: NESA DVD-1005 DVD Player with Front Pane...\u001b[0m\n",
      "\u001b[92m196: Guess: $47.99 Truth: $43.96 Error: $4.03 SLE: 0.01 Item: Dryer Heating Element Compatible with Sa...\u001b[0m\n",
      "\u001b[91m197: Guess: $66.47 Truth: $169.00 Error: $102.53 SLE: 0.85 Item: Sea Frogs 130ft/40m Underwater Camera Ho...\u001b[0m\n",
      "\u001b[92m198: Guess: $69.99 Truth: $74.99 Error: $5.00 SLE: 0.00 Item: ACASIS Powered USB Hub,16 Ports USB 3.0 ...\u001b[0m\n",
      "\u001b[92m199: Guess: $47.99 Truth: $54.47 Error: $6.48 SLE: 0.02 Item: Vanpir C21N1624 Laptop Battery Replaceme...\u001b[0m\n",
      "\u001b[92m200: Guess: $209.00 Truth: $239.99 Error: $30.99 SLE: 0.02 Item: Unlocked Rugged Smartphone with TWS Earb...\u001b[0m\n",
      "\u001b[92m201: Guess: $65.98 Truth: $52.99 Error: $12.99 SLE: 0.05 Item: EMEET 1080P Webcam with Microphone & Tri...\u001b[0m\n",
      "\u001b[91m202: Guess: $47.22 Truth: $149.99 Error: $102.77 SLE: 1.30 Item: Koss CS340BT QZ Wireless Bluetooth On-Ea...\u001b[0m\n",
      "\u001b[92m203: Guess: $65.65 Truth: $66.01 Error: $0.36 SLE: 0.00 Item: BRIGHTFOCAL New Screen Replacement for P...\u001b[0m\n",
      "\u001b[92m204: Guess: $393.69 Truth: $439.98 Error: $46.29 SLE: 0.01 Item: Olympus Zuiko 50-200mm f/2.8-3.5 Digital...\u001b[0m\n",
      "\u001b[92m205: Guess: $137.99 Truth: $149.99 Error: $12.00 SLE: 0.01 Item: Wireless HDMI KVM Extender, Wireless HDM...\u001b[0m\n",
      "\u001b[92m206: Guess: $22.50 Truth: $53.99 Error: $31.49 SLE: 0.72 Item: CTLAMP A+ Quality 915b455011 Compatible ...\u001b[0m\n",
      "\u001b[93m207: Guess: $139.98 Truth: $99.17 Error: $40.81 SLE: 0.12 Item: Kate Dark Blue Collapsible Backdrop for ...\u001b[0m\n",
      "\u001b[93m208: Guess: $66.47 Truth: $127.75 Error: $61.28 SLE: 0.42 Item: Kodak Portra 800 Color Negative Film ISO...\u001b[0m\n",
      "\u001b[92m209: Guess: $11.99 Truth: $10.99 Error: $1.00 SLE: 0.01 Item: PTNKUIIY Plush Furry Case for iPhone 12 ...\u001b[0m\n",
      "\u001b[91m210: Guess: $32.00 Truth: $144.93 Error: $112.93 SLE: 2.21 Item: Whirlpool W10415587 Washer Water-Level P...\u001b[0m\n",
      "\u001b[92m211: Guess: $54.99 Truth: $36.99 Error: $18.00 SLE: 0.15 Item: Bagsure Travel Laptop Backpack, Business...\u001b[0m\n",
      "\u001b[91m212: Guess: $127.22 Truth: $499.99 Error: $372.77 SLE: 1.86 Item: Supermicro X9SCA ATX Intel C204 PCH Sing...\u001b[0m\n",
      "\u001b[92m213: Guess: $34.98 Truth: $40.99 Error: $6.01 SLE: 0.02 Item: All Star Protector Blu-Ray Steelbook Sli...\u001b[0m\n",
      "\u001b[92m214: Guess: $18.90 Truth: $36.98 Error: $18.08 SLE: 0.42 Item: Camera Eyecup + Camera Hand Strap：Soft S...\u001b[0m\n",
      "\u001b[92m215: Guess: $65.65 Truth: $34.99 Error: $30.66 SLE: 0.38 Item: Motorcycle Amplifier Wiring kit fits All...\u001b[0m\n",
      "\u001b[92m216: Guess: $139.98 Truth: $104.61 Error: $35.37 SLE: 0.08 Item: HP Elite 8200 Ultra Slim Desktop PC - In...\u001b[0m\n",
      "\u001b[91m217: Guess: $47.22 Truth: $393.30 Error: $346.08 SLE: 4.42 Item: Ancona AN-1360 Inserta Chef 28\" 600 CFM ...\u001b[0m\n",
      "\u001b[92m218: Guess: $22.69 Truth: $29.99 Error: $7.30 SLE: 0.07 Item: MONASAY Zipper Wallet Case for iPhone 13...\u001b[0m\n",
      "\u001b[91m219: Guess: $47.99 Truth: $479.99 Error: $432.00 SLE: 5.22 Item: Celerity Technologies DFO-160P Fiber Opt...\u001b[0m\n",
      "\u001b[93m220: Guess: $139.98 Truth: $85.00 Error: $54.98 SLE: 0.24 Item: SAMSUNG Original Galaxy Watch Active2 w/...\u001b[0m\n",
      "\u001b[91m221: Guess: $219.98 Truth: $849.99 Error: $630.01 SLE: 1.82 Item: Lenovo Yoga 3 Pro - 80HE010KUS Laptop Co...\u001b[0m\n",
      "\u001b[92m222: Guess: $11.98 Truth: $8.99 Error: $2.99 SLE: 0.07 Item: GW USA Cases for Moto Z3 Case, Moto Z3 P...\u001b[0m\n",
      "\u001b[91m223: Guess: $65.69 Truth: $229.95 Error: $164.26 SLE: 1.54 Item: Coleman Bravo 1080p Full HD Extreme Spor...\u001b[0m\n",
      "\u001b[92m224: Guess: $262.47 Truth: $249.90 Error: $12.57 SLE: 0.00 Item: KICKER 6x9 CSC Wakeboard Tower Rollbar S...\u001b[0m\n",
      "\u001b[92m225: Guess: $219.98 Truth: $199.99 Error: $19.99 SLE: 0.01 Item: Kicker 46CXA8001 Car Audio Class D Amp M...\u001b[0m\n",
      "\u001b[92m226: Guess: $37.99 Truth: $22.99 Error: $15.00 SLE: 0.24 Item: 3387747 Dryer Heating Element Replacemen...\u001b[0m\n",
      "\u001b[92m227: Guess: $39.99 Truth: $69.99 Error: $30.00 SLE: 0.30 Item: Egoway A1383 Laptop Battery Compatible w...\u001b[0m\n",
      "\u001b[92m228: Guess: $22.69 Truth: $17.95 Error: $4.74 SLE: 0.05 Item: Case with Clip for Sonim XP3, Nakedcellp...\u001b[0m\n",
      "\u001b[92m229: Guess: $24.99 Truth: $34.99 Error: $10.00 SLE: 0.11 Item: Velvet Caviar Compatible with Samsung Ga...\u001b[0m\n",
      "\u001b[92m230: Guess: $30.47 Truth: $31.35 Error: $0.88 SLE: 0.00 Item: Cameron Sino Replacement Battery for Gar...\u001b[0m\n",
      "\u001b[92m231: Guess: $65.98 Truth: $50.99 Error: $14.99 SLE: 0.06 Item: AeroCool Bolt-G-BK Tempered Glass RGB Mi...\u001b[0m\n",
      "\u001b[92m232: Guess: $47.99 Truth: $43.07 Error: $4.92 SLE: 0.01 Item: LG TONE TRIUMPH HBS-510 wireless Bluetoo...\u001b[0m\n",
      "\u001b[92m233: Guess: $147.00 Truth: $184.24 Error: $37.24 SLE: 0.05 Item: Dell Latitude E6230 12.5in Notebook PC -...\u001b[0m\n",
      "\u001b[91m234: Guess: $174.00 Truth: $88.00 Error: $86.00 SLE: 0.46 Item: Sony Professional XQD G Series 64GB  Mem...\u001b[0m\n",
      "\u001b[92m235: Guess: $49.99 Truth: $47.99 Error: $2.00 SLE: 0.00 Item: Computer Speakers, HiFi Stereo Computer ...\u001b[0m\n",
      "\u001b[92m236: Guess: $29.90 Truth: $41.30 Error: $11.40 SLE: 0.10 Item: Washing Machine Hoses and Steam Dryer In...\u001b[0m\n",
      "\u001b[92m237: Guess: $65.65 Truth: $74.75 Error: $9.10 SLE: 0.02 Item: JBL Endurance Peak II - Waterproof True ...\u001b[0m\n",
      "\u001b[93m238: Guess: $49.99 Truth: $98.00 Error: $48.01 SLE: 0.44 Item: CMS 8GB (2X4GB) DDR2 5300 667MHZ Non ECC...\u001b[0m\n",
      "\u001b[92m239: Guess: $8.99 Truth: $4.99 Error: $4.00 SLE: 0.26 Item: 100 Pcs Hocus Pocus Stickers, Vinyl Wate...\u001b[0m\n",
      "\u001b[93m240: Guess: $164.50 Truth: $97.95 Error: $66.55 SLE: 0.26 Item: ASUS GeForce GTX 550 Ti (Fermi) 1GB 192-...\u001b[0m\n",
      "\u001b[91m241: Guess: $119.99 Truth: $199.99 Error: $80.00 SLE: 0.26 Item: 2023 Newest Tablet, 2 in 1 Android Table...\u001b[0m\n",
      "\u001b[92m242: Guess: $109.99 Truth: $135.00 Error: $25.01 SLE: 0.04 Item: 10.1 inch Car Overhead Monitor 1080P Vid...\u001b[0m\n",
      "\u001b[91m243: Guess: $390.22 Truth: $679.00 Error: $288.78 SLE: 0.31 Item: ZOTAC Gaming GeForce RTX™ 3070 Ti Trinit...\u001b[0m\n",
      "\u001b[92m244: Guess: $22.99 Truth: $21.99 Error: $1.00 SLE: 0.00 Item: i-Blason Magma Case for iPhone 11 6.1 in...\u001b[0m\n",
      "\u001b[92m245: Guess: $219.00 Truth: $229.99 Error: $10.99 SLE: 0.00 Item: Fitcamx 4K Dash Cam Suitable for Mercede...\u001b[0m\n",
      "\u001b[91m246: Guess: $127.22 Truth: $29.00 Error: $98.22 SLE: 2.11 Item: Caprock Ultravation UltraMax T3 AS-IH-10...\u001b[0m\n",
      "\u001b[92m247: Guess: $47.99 Truth: $81.25 Error: $33.26 SLE: 0.27 Item: Xduoo 220790 Accessory Xp-2 Portable Blu...\u001b[0m\n",
      "\u001b[91m248: Guess: $127.99 Truth: $649.00 Error: $521.01 SLE: 2.62 Item: Dell Optiplex 9020, Intel i5, 8GB RAM, 2...\u001b[0m\n",
      "\u001b[93m249: Guess: $164.99 Truth: $104.99 Error: $60.00 SLE: 0.20 Item: G.Skill Trident Z5 NEO RGB Series (AMD E...\u001b[0m\n",
      "\u001b[93m250: Guess: $1,271.69 Truth: $979.00 Error: $292.69 SLE: 0.07 Item: ASUS - 15.6\" Laptop - AMD Ryzen 7-8GB Me...\u001b[0m\n"
     ]
    },
    {
     "data": {
      "image/png": "[encoded data removed]",
      "text/plain": [
       "<Figure size 1200x800 with 1 Axes>"
      ]
     },
     "metadata": {},
     "output_type": "display_data"
    }
   ],
   "source": [
    "Tester.test(gpt_fine_tuned, test)"
   ]
  },
  {
   "cell_type": "code",
   "execution_count": null,
   "id": "d07d8db1",
   "metadata": {},
   "outputs": [],
   "source": []
  }
 ],
 "metadata": {
  "kernelspec": {
   "display_name": "llms",
   "language": "python",
   "name": "python3"
  },
  "language_info": {
   "codemirror_mode": {
    "name": "ipython",
    "version": 3
   },
   "file_extension": ".py",
   "mimetype": "text/x-python",
   "name": "python",
   "nbconvert_exporter": "python",
   "pygments_lexer": "ipython3",
   "version": "3.11.11"
  }
 },
 "nbformat": 4,
 "nbformat_minor": 5
}
